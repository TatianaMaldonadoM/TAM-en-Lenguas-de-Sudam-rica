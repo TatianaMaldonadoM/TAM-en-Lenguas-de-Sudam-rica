{
 "cells": [
  {
   "cell_type": "code",
   "execution_count": 1,
   "id": "9e0837fd-152d-4b43-bbfb-3361c0831e24",
   "metadata": {},
   "outputs": [],
   "source": [
    "#Para vizualizar los archivos importamos pandas como pd\n",
    "import pandas as pd"
   ]
  },
  {
   "cell_type": "markdown",
   "id": "146c060b-ce53-4725-85e8-992f332aed3e",
   "metadata": {},
   "source": [
    "# 1. TIEMPO\n",
    "La primera categoría TAM a visualizar corresponde a la de tiempo. Esta se compone de tres rasgos lingüísticos: tiempo presente, tiempo pasado y tiempo futuro."
   ]
  },
  {
   "cell_type": "code",
   "execution_count": 2,
   "id": "4e05ff45-7e65-4db1-8a65-6113ddd2bb6e",
   "metadata": {},
   "outputs": [],
   "source": [
    "#definimos una lista llamada tense_present que contendrá la lectura del archivo con los datos de tiempo presente\n",
    "tense_present = pd.read_csv('tense_present.csv',sep=',',encoding='iso-8859-1')"
   ]
  },
  {
   "cell_type": "markdown",
   "id": "45288450-019c-4b40-8e41-a923b33ddcf4",
   "metadata": {},
   "source": [
    "# 1.1 Tiempo Presente"
   ]
  },
  {
   "cell_type": "code",
   "execution_count": 3,
   "id": "14a0d706-2085-496f-ac1c-d68f929fa1c1",
   "metadata": {},
   "outputs": [
    {
     "data": {
      "text/html": [
       "<div>\n",
       "<style scoped>\n",
       "    .dataframe tbody tr th:only-of-type {\n",
       "        vertical-align: middle;\n",
       "    }\n",
       "\n",
       "    .dataframe tbody tr th {\n",
       "        vertical-align: top;\n",
       "    }\n",
       "\n",
       "    .dataframe thead th {\n",
       "        text-align: right;\n",
       "    }\n",
       "</style>\n",
       "<table border=\"1\" class=\"dataframe\">\n",
       "  <thead>\n",
       "    <tr style=\"text-align: right;\">\n",
       "      <th></th>\n",
       "      <th>iso-639-3</th>\n",
       "      <th>name</th>\n",
       "      <th>value</th>\n",
       "      <th>description</th>\n",
       "      <th>latitude</th>\n",
       "      <th>longitude</th>\n",
       "      <th>family</th>\n",
       "    </tr>\n",
       "  </thead>\n",
       "  <tbody>\n",
       "    <tr>\n",
       "      <th>0</th>\n",
       "      <td>agr</td>\n",
       "      <td>Aguaruna</td>\n",
       "      <td>N</td>\n",
       "      <td>no</td>\n",
       "      <td>-5.300440</td>\n",
       "      <td>-77.921790</td>\n",
       "      <td>Chicham</td>\n",
       "    </tr>\n",
       "    <tr>\n",
       "      <th>1</th>\n",
       "      <td>apu</td>\n",
       "      <td>Apurinã</td>\n",
       "      <td>N</td>\n",
       "      <td>no</td>\n",
       "      <td>-8.216920</td>\n",
       "      <td>-66.771410</td>\n",
       "      <td>Arawakan</td>\n",
       "    </tr>\n",
       "    <tr>\n",
       "      <th>2</th>\n",
       "      <td>arh</td>\n",
       "      <td>Arhuaco</td>\n",
       "      <td>N</td>\n",
       "      <td>no</td>\n",
       "      <td>10.701840</td>\n",
       "      <td>-73.636290</td>\n",
       "      <td>Chibchan</td>\n",
       "    </tr>\n",
       "    <tr>\n",
       "      <th>3</th>\n",
       "      <td>kwi</td>\n",
       "      <td>Awa-Cuaiquer</td>\n",
       "      <td>N</td>\n",
       "      <td>no</td>\n",
       "      <td>1.216525</td>\n",
       "      <td>-78.340135</td>\n",
       "      <td>Barbacoan</td>\n",
       "    </tr>\n",
       "    <tr>\n",
       "      <th>4</th>\n",
       "      <td>brg</td>\n",
       "      <td>Baure</td>\n",
       "      <td>N</td>\n",
       "      <td>no</td>\n",
       "      <td>-13.127750</td>\n",
       "      <td>-64.183810</td>\n",
       "      <td>Arawakan</td>\n",
       "    </tr>\n",
       "  </tbody>\n",
       "</table>\n",
       "</div>"
      ],
      "text/plain": [
       "  iso-639-3          name value description   latitude  longitude     family\n",
       "0       agr      Aguaruna     N          no  -5.300440 -77.921790    Chicham\n",
       "1       apu       Apurinã     N          no  -8.216920 -66.771410   Arawakan\n",
       "2       arh       Arhuaco     N          no  10.701840 -73.636290   Chibchan\n",
       "3       kwi  Awa-Cuaiquer     N          no   1.216525 -78.340135  Barbacoan\n",
       "4       brg         Baure     N          no -13.127750 -64.183810   Arawakan"
      ]
     },
     "execution_count": 3,
     "metadata": {},
     "output_type": "execute_result"
    }
   ],
   "source": [
    "#visualizamos la lista tense_present\n",
    "tense_present[:5]"
   ]
  },
  {
   "cell_type": "code",
   "execution_count": 4,
   "id": "210fff07-84d9-4a33-81da-f46574a15f4a",
   "metadata": {},
   "outputs": [
    {
     "data": {
      "text/plain": [
       "64"
      ]
     },
     "execution_count": 4,
     "metadata": {},
     "output_type": "execute_result"
    }
   ],
   "source": [
    "len(tense_present)"
   ]
  },
  {
   "cell_type": "code",
   "execution_count": 5,
   "id": "2a72ebbd-69ed-4ffb-bfab-e29cc3b8ddde",
   "metadata": {},
   "outputs": [
    {
     "data": {
      "text/plain": [
       "['iso-639-3',\n",
       " 'name',\n",
       " 'value',\n",
       " 'description',\n",
       " 'latitude',\n",
       " 'longitude',\n",
       " 'family']"
      ]
     },
     "execution_count": 5,
     "metadata": {},
     "output_type": "execute_result"
    }
   ],
   "source": [
    "#visualizamos las columnas del archivo en forma de lista\n",
    "list(tense_present.columns)"
   ]
  },
  {
   "cell_type": "code",
   "execution_count": 6,
   "id": "c0700bea-276f-4f8a-b657-19655126e794",
   "metadata": {},
   "outputs": [
    {
     "data": {
      "text/html": [
       "<div>\n",
       "<style scoped>\n",
       "    .dataframe tbody tr th:only-of-type {\n",
       "        vertical-align: middle;\n",
       "    }\n",
       "\n",
       "    .dataframe tbody tr th {\n",
       "        vertical-align: top;\n",
       "    }\n",
       "\n",
       "    .dataframe thead th {\n",
       "        text-align: right;\n",
       "    }\n",
       "</style>\n",
       "<table border=\"1\" class=\"dataframe\">\n",
       "  <thead>\n",
       "    <tr style=\"text-align: right;\">\n",
       "      <th></th>\n",
       "      <th>name</th>\n",
       "      <th>value</th>\n",
       "    </tr>\n",
       "  </thead>\n",
       "  <tbody>\n",
       "    <tr>\n",
       "      <th>0</th>\n",
       "      <td>Aguaruna</td>\n",
       "      <td>N</td>\n",
       "    </tr>\n",
       "    <tr>\n",
       "      <th>1</th>\n",
       "      <td>Apurinã</td>\n",
       "      <td>N</td>\n",
       "    </tr>\n",
       "    <tr>\n",
       "      <th>2</th>\n",
       "      <td>Arhuaco</td>\n",
       "      <td>N</td>\n",
       "    </tr>\n",
       "    <tr>\n",
       "      <th>3</th>\n",
       "      <td>Awa-Cuaiquer</td>\n",
       "      <td>N</td>\n",
       "    </tr>\n",
       "    <tr>\n",
       "      <th>4</th>\n",
       "      <td>Baure</td>\n",
       "      <td>N</td>\n",
       "    </tr>\n",
       "  </tbody>\n",
       "</table>\n",
       "</div>"
      ],
      "text/plain": [
       "           name value\n",
       "0      Aguaruna     N\n",
       "1       Apurinã     N\n",
       "2       Arhuaco     N\n",
       "3  Awa-Cuaiquer     N\n",
       "4         Baure     N"
      ]
     },
     "execution_count": 6,
     "metadata": {},
     "output_type": "execute_result"
    }
   ],
   "source": [
    "#visualizamos únicamente dos columnas de tense_present (name y value)\n",
    "tense_present[['name','value']][:5]"
   ]
  },
  {
   "cell_type": "code",
   "execution_count": 7,
   "id": "63953b64-1663-4770-a77a-ed1e7c4b9c61",
   "metadata": {},
   "outputs": [],
   "source": [
    "#definimos una nueva lista llamada value_name que contendrá solo las columnas 'name' y 'value'\n",
    "value_name_present = tense_present[['name','value']]"
   ]
  },
  {
   "cell_type": "code",
   "execution_count": 8,
   "id": "100d17b9-3b9d-4a67-947e-350ee1fa5029",
   "metadata": {},
   "outputs": [
    {
     "data": {
      "text/html": [
       "<div>\n",
       "<style scoped>\n",
       "    .dataframe tbody tr th:only-of-type {\n",
       "        vertical-align: middle;\n",
       "    }\n",
       "\n",
       "    .dataframe tbody tr th {\n",
       "        vertical-align: top;\n",
       "    }\n",
       "\n",
       "    .dataframe thead th {\n",
       "        text-align: right;\n",
       "    }\n",
       "</style>\n",
       "<table border=\"1\" class=\"dataframe\">\n",
       "  <thead>\n",
       "    <tr style=\"text-align: right;\">\n",
       "      <th></th>\n",
       "      <th>name</th>\n",
       "      <th>value</th>\n",
       "    </tr>\n",
       "  </thead>\n",
       "  <tbody>\n",
       "    <tr>\n",
       "      <th>0</th>\n",
       "      <td>Aguaruna</td>\n",
       "      <td>N</td>\n",
       "    </tr>\n",
       "    <tr>\n",
       "      <th>1</th>\n",
       "      <td>Apurinã</td>\n",
       "      <td>N</td>\n",
       "    </tr>\n",
       "    <tr>\n",
       "      <th>2</th>\n",
       "      <td>Arhuaco</td>\n",
       "      <td>N</td>\n",
       "    </tr>\n",
       "    <tr>\n",
       "      <th>3</th>\n",
       "      <td>Awa-Cuaiquer</td>\n",
       "      <td>N</td>\n",
       "    </tr>\n",
       "    <tr>\n",
       "      <th>4</th>\n",
       "      <td>Baure</td>\n",
       "      <td>N</td>\n",
       "    </tr>\n",
       "  </tbody>\n",
       "</table>\n",
       "</div>"
      ],
      "text/plain": [
       "           name value\n",
       "0      Aguaruna     N\n",
       "1       Apurinã     N\n",
       "2       Arhuaco     N\n",
       "3  Awa-Cuaiquer     N\n",
       "4         Baure     N"
      ]
     },
     "execution_count": 8,
     "metadata": {},
     "output_type": "execute_result"
    }
   ],
   "source": [
    "value_name_present[:5]"
   ]
  },
  {
   "cell_type": "code",
   "execution_count": 9,
   "id": "28d50a0f-0069-4e64-98c3-550d0bacb7a0",
   "metadata": {},
   "outputs": [],
   "source": [
    "#creamos un diccionario con las columnas 'name' y 'value'. Name=keys y value=values.\n",
    "dict_present = dict(zip(value_name_present['name'], value_name_present['value']))"
   ]
  },
  {
   "cell_type": "code",
   "execution_count": 10,
   "id": "06a98966-a860-40d9-ba59-36b47dc8ea44",
   "metadata": {},
   "outputs": [
    {
     "data": {
      "text/plain": [
       "{'Aguaruna': 'N',\n",
       " 'Apurinã': 'N',\n",
       " 'Arhuaco': 'N',\n",
       " 'Awa-Cuaiquer': 'N',\n",
       " 'Baure': 'N',\n",
       " 'Bora': 'N',\n",
       " 'Bororo': 'N',\n",
       " 'Canela': 'N',\n",
       " 'Cavineña': 'N',\n",
       " 'Central Aymara': 'AFF',\n",
       " 'Chimila': 'N',\n",
       " 'Cocama-Cocamilla': 'N',\n",
       " 'Cubeo': 'AFF',\n",
       " 'Cusco Quechua': 'N',\n",
       " 'Desano': 'AFF',\n",
       " 'Dâw': 'N',\n",
       " 'Emerillon': 'N',\n",
       " 'Hixkaryána': 'AFF',\n",
       " 'Huallaga Huánuco Quechua': 'N',\n",
       " 'Hupdë': 'N',\n",
       " 'Imbabura Highland Quichua': 'N',\n",
       " 'Itonama': 'N',\n",
       " 'Jamamadí': 'N',\n",
       " 'Kaingang': 'N',\n",
       " 'Kamayurá': 'N',\n",
       " 'Kanoê': 'N',\n",
       " 'Karitiâna': 'AFF',\n",
       " 'Karo (Brazil)': 'N',\n",
       " 'Kwaza': 'N',\n",
       " 'Leco': 'AFF',\n",
       " 'Mamaindé': 'AFF',\n",
       " 'Mapudungun': 'N',\n",
       " 'Matsés': 'AFF',\n",
       " 'Mocoví': 'N',\n",
       " 'Mosetén': 'N',\n",
       " 'Movima': 'N',\n",
       " 'Muniche': 'N',\n",
       " 'Nhengatu': 'N',\n",
       " 'Ninam': 'N',\n",
       " 'Northern Emberá': 'AFF',\n",
       " 'Panare': 'AFF',\n",
       " 'Parecís': 'N',\n",
       " 'Pilagá': 'N',\n",
       " 'Puinave': 'N',\n",
       " 'Páez': 'N',\n",
       " 'Rikbaktsa': 'AFF',\n",
       " 'Sabanê': 'AFF',\n",
       " 'Sakirabia': 'N',\n",
       " 'Sateré-Mawé': 'N',\n",
       " 'Shipibo-Conibo': 'N',\n",
       " 'Shuar': 'N',\n",
       " 'Tapieté': 'N',\n",
       " 'Tariana': 'CLI',\n",
       " 'Tehuelche': '?',\n",
       " 'Trió': 'AFF',\n",
       " 'Trumai': 'PAR',\n",
       " 'Tsafiki': 'N',\n",
       " 'Urarina': 'N',\n",
       " 'Warao': 'AFF',\n",
       " 'Wari': 'CLI',\n",
       " 'Wichí Lhamtés Nocten': 'N',\n",
       " 'Yaminahua': 'N',\n",
       " \"Yanesha'\": 'N',\n",
       " 'Yuracaré': 'N'}"
      ]
     },
     "execution_count": 10,
     "metadata": {},
     "output_type": "execute_result"
    }
   ],
   "source": [
    "dict_present"
   ]
  },
  {
   "cell_type": "code",
   "execution_count": 11,
   "id": "ba7a5d5a-7862-4ca1-a7f5-c0304e6c5541",
   "metadata": {},
   "outputs": [],
   "source": [
    "#extraemos los valores de dict_present\n",
    "valores = set(dict_present.values())"
   ]
  },
  {
   "cell_type": "code",
   "execution_count": 12,
   "id": "84fa3c19-0f8d-4184-83e5-bedf480af5e6",
   "metadata": {},
   "outputs": [
    {
     "data": {
      "text/plain": [
       "{'?', 'AFF', 'CLI', 'N', 'PAR'}"
      ]
     },
     "execution_count": 12,
     "metadata": {},
     "output_type": "execute_result"
    }
   ],
   "source": [
    "valores"
   ]
  },
  {
   "cell_type": "code",
   "execution_count": 13,
   "id": "9adca3eb-ee22-4398-aae7-0a161342b973",
   "metadata": {},
   "outputs": [],
   "source": [
    "#creamos una lista llamada no_marcación_present que contendrá los keys (es decir, las lenguas) que tengan un value igual a \"N\"\n",
    "## empleamos un ciclo for que recorra los keys de dict_present y guarde en la lista aquellos con valor igual a \"N\"\n",
    "\n",
    "no_marcacion_present = []\n",
    "\n",
    "for key in dict_present.keys():\n",
    "    if dict_present[key] == 'N':\n",
    "        no_marcacion_present = no_marcacion_present + [key]"
   ]
  },
  {
   "cell_type": "code",
   "execution_count": 14,
   "id": "5520f7fa-937e-4c3e-b1ed-02824d747588",
   "metadata": {},
   "outputs": [
    {
     "data": {
      "text/plain": [
       "['Aguaruna', 'Apurinã', 'Arhuaco', 'Awa-Cuaiquer', 'Baure']"
      ]
     },
     "execution_count": 14,
     "metadata": {},
     "output_type": "execute_result"
    }
   ],
   "source": [
    "#visualizamos la lista anterior\n",
    "no_marcacion_present[:5]"
   ]
  },
  {
   "cell_type": "code",
   "execution_count": 15,
   "id": "2f106dbe-427e-48db-8bb3-bac92e71b60a",
   "metadata": {},
   "outputs": [
    {
     "data": {
      "text/plain": [
       "46"
      ]
     },
     "execution_count": 15,
     "metadata": {},
     "output_type": "execute_result"
    }
   ],
   "source": [
    "#imprimimos el total de elementos de no_marcacion_present para saber el número de lenguas con no marcación\n",
    "len(no_marcacion_present)"
   ]
  },
  {
   "cell_type": "code",
   "execution_count": 16,
   "id": "d63525da-0ffc-41b8-86b6-9f5b7d1351ce",
   "metadata": {},
   "outputs": [],
   "source": [
    "#ahora definimos una nueva lista que contenga las lenguas con marcación morfolófica de tiempo presente llamada marcacion_present.\n",
    "##con un ciclo for buscamos los keys en dict_present que no estén en la lista no_marcacion_present y los guarde en la nueva lista.\n",
    "###el resultado serán las lenguas que tienen marcas morfológicas.\n",
    "\n",
    "marcacion_present = []\n",
    "\n",
    "for key in dict_present:\n",
    "    if key not in no_marcacion_present:\n",
    "        marcacion_present = marcacion_present + [key]"
   ]
  },
  {
   "cell_type": "code",
   "execution_count": 17,
   "id": "c693d802-c80f-4433-9dc7-f4fbe359b5d2",
   "metadata": {},
   "outputs": [
    {
     "data": {
      "text/plain": [
       "['Central Aymara', 'Cubeo', 'Desano', 'Hixkaryána', 'Karitiâna']"
      ]
     },
     "execution_count": 17,
     "metadata": {},
     "output_type": "execute_result"
    }
   ],
   "source": [
    "#imprimimos la lista anterior\n",
    "marcacion_present[:5]"
   ]
  },
  {
   "cell_type": "code",
   "execution_count": 18,
   "id": "0bc00842-3939-4fed-a085-3c74a55020f5",
   "metadata": {},
   "outputs": [
    {
     "data": {
      "text/plain": [
       "18"
      ]
     },
     "execution_count": 18,
     "metadata": {},
     "output_type": "execute_result"
    }
   ],
   "source": [
    "#imprimos el largo de la lista anterior  para saber el número de lenguas con marcas morfosintácticas para presente.\n",
    "len(marcacion_present)"
   ]
  },
  {
   "cell_type": "markdown",
   "id": "07948696-ffe2-4227-aad7-5c7c0f661721",
   "metadata": {},
   "source": [
    "# 1.2 Tiempo Pasado"
   ]
  },
  {
   "cell_type": "code",
   "execution_count": 19,
   "id": "c3cc3284-03bf-4e9a-88d7-bd2e1e6c4222",
   "metadata": {},
   "outputs": [],
   "source": [
    "#definimos una lista llamada tiempo_pasado que contendrá la lectura del archivo con los datos de past_tense\n",
    "tiempo_pasado = pd.read_csv('past_tense.csv',sep=',',encoding='iso-8859-1')"
   ]
  },
  {
   "cell_type": "code",
   "execution_count": 20,
   "id": "9adbb204",
   "metadata": {},
   "outputs": [
    {
     "data": {
      "text/html": [
       "<div>\n",
       "<style scoped>\n",
       "    .dataframe tbody tr th:only-of-type {\n",
       "        vertical-align: middle;\n",
       "    }\n",
       "\n",
       "    .dataframe tbody tr th {\n",
       "        vertical-align: top;\n",
       "    }\n",
       "\n",
       "    .dataframe thead th {\n",
       "        text-align: right;\n",
       "    }\n",
       "</style>\n",
       "<table border=\"1\" class=\"dataframe\">\n",
       "  <thead>\n",
       "    <tr style=\"text-align: right;\">\n",
       "      <th></th>\n",
       "      <th>iso-639-3</th>\n",
       "      <th>name</th>\n",
       "      <th>value</th>\n",
       "      <th>description</th>\n",
       "      <th>latitude</th>\n",
       "      <th>longitude</th>\n",
       "      <th>family</th>\n",
       "    </tr>\n",
       "  </thead>\n",
       "  <tbody>\n",
       "    <tr>\n",
       "      <th>0</th>\n",
       "      <td>agr</td>\n",
       "      <td>Aguaruna</td>\n",
       "      <td>AFF</td>\n",
       "      <td>affix</td>\n",
       "      <td>-5.300440</td>\n",
       "      <td>-77.921790</td>\n",
       "      <td>Chicham</td>\n",
       "    </tr>\n",
       "    <tr>\n",
       "      <th>1</th>\n",
       "      <td>apu</td>\n",
       "      <td>Apurinã</td>\n",
       "      <td>N</td>\n",
       "      <td>no</td>\n",
       "      <td>-8.216920</td>\n",
       "      <td>-66.771410</td>\n",
       "      <td>Arawakan</td>\n",
       "    </tr>\n",
       "    <tr>\n",
       "      <th>2</th>\n",
       "      <td>arh</td>\n",
       "      <td>Arhuaco</td>\n",
       "      <td>AFF</td>\n",
       "      <td>affix</td>\n",
       "      <td>10.701840</td>\n",
       "      <td>-73.636290</td>\n",
       "      <td>Chibchan</td>\n",
       "    </tr>\n",
       "    <tr>\n",
       "      <th>3</th>\n",
       "      <td>kwi</td>\n",
       "      <td>Awa-Cuaiquer</td>\n",
       "      <td>AFF</td>\n",
       "      <td>affix</td>\n",
       "      <td>1.216525</td>\n",
       "      <td>-78.340135</td>\n",
       "      <td>Barbacoan</td>\n",
       "    </tr>\n",
       "    <tr>\n",
       "      <th>4</th>\n",
       "      <td>brg</td>\n",
       "      <td>Baure</td>\n",
       "      <td>N</td>\n",
       "      <td>no</td>\n",
       "      <td>-13.127750</td>\n",
       "      <td>-64.183810</td>\n",
       "      <td>Arawakan</td>\n",
       "    </tr>\n",
       "  </tbody>\n",
       "</table>\n",
       "</div>"
      ],
      "text/plain": [
       "  iso-639-3          name value description   latitude  longitude     family\n",
       "0       agr      Aguaruna   AFF       affix  -5.300440 -77.921790    Chicham\n",
       "1       apu       Apurinã     N          no  -8.216920 -66.771410   Arawakan\n",
       "2       arh       Arhuaco   AFF       affix  10.701840 -73.636290   Chibchan\n",
       "3       kwi  Awa-Cuaiquer   AFF       affix   1.216525 -78.340135  Barbacoan\n",
       "4       brg         Baure     N          no -13.127750 -64.183810   Arawakan"
      ]
     },
     "execution_count": 20,
     "metadata": {},
     "output_type": "execute_result"
    }
   ],
   "source": [
    "#visualizamos la lista definida anteriormente\n",
    "tiempo_pasado[:5]\n"
   ]
  },
  {
   "cell_type": "code",
   "execution_count": 21,
   "id": "eb4a1d29",
   "metadata": {},
   "outputs": [
    {
     "data": {
      "text/html": [
       "<div>\n",
       "<style scoped>\n",
       "    .dataframe tbody tr th:only-of-type {\n",
       "        vertical-align: middle;\n",
       "    }\n",
       "\n",
       "    .dataframe tbody tr th {\n",
       "        vertical-align: top;\n",
       "    }\n",
       "\n",
       "    .dataframe thead th {\n",
       "        text-align: right;\n",
       "    }\n",
       "</style>\n",
       "<table border=\"1\" class=\"dataframe\">\n",
       "  <thead>\n",
       "    <tr style=\"text-align: right;\">\n",
       "      <th></th>\n",
       "      <th>name</th>\n",
       "      <th>value</th>\n",
       "    </tr>\n",
       "  </thead>\n",
       "  <tbody>\n",
       "    <tr>\n",
       "      <th>0</th>\n",
       "      <td>Aguaruna</td>\n",
       "      <td>AFF</td>\n",
       "    </tr>\n",
       "    <tr>\n",
       "      <th>1</th>\n",
       "      <td>Apurinã</td>\n",
       "      <td>N</td>\n",
       "    </tr>\n",
       "    <tr>\n",
       "      <th>2</th>\n",
       "      <td>Arhuaco</td>\n",
       "      <td>AFF</td>\n",
       "    </tr>\n",
       "    <tr>\n",
       "      <th>3</th>\n",
       "      <td>Awa-Cuaiquer</td>\n",
       "      <td>AFF</td>\n",
       "    </tr>\n",
       "    <tr>\n",
       "      <th>4</th>\n",
       "      <td>Baure</td>\n",
       "      <td>N</td>\n",
       "    </tr>\n",
       "  </tbody>\n",
       "</table>\n",
       "</div>"
      ],
      "text/plain": [
       "           name value\n",
       "0      Aguaruna   AFF\n",
       "1       Apurinã     N\n",
       "2       Arhuaco   AFF\n",
       "3  Awa-Cuaiquer   AFF\n",
       "4         Baure     N"
      ]
     },
     "execution_count": 21,
     "metadata": {},
     "output_type": "execute_result"
    }
   ],
   "source": [
    "#visualizamos únicamente dos columnas de past_tense (name y value)\n",
    "tiempo_pasado[['name','value']][:5]"
   ]
  },
  {
   "cell_type": "code",
   "execution_count": 22,
   "id": "5a11fb73",
   "metadata": {},
   "outputs": [],
   "source": [
    "#definimos una nueva lista llamada value_name_past que contendrá solo las columnas 'name' y 'value'\n",
    "value_name_past = tiempo_pasado[['name','value']]"
   ]
  },
  {
   "cell_type": "code",
   "execution_count": 23,
   "id": "980141ff-cc59-483c-adaa-66ab4446d524",
   "metadata": {},
   "outputs": [
    {
     "data": {
      "text/html": [
       "<div>\n",
       "<style scoped>\n",
       "    .dataframe tbody tr th:only-of-type {\n",
       "        vertical-align: middle;\n",
       "    }\n",
       "\n",
       "    .dataframe tbody tr th {\n",
       "        vertical-align: top;\n",
       "    }\n",
       "\n",
       "    .dataframe thead th {\n",
       "        text-align: right;\n",
       "    }\n",
       "</style>\n",
       "<table border=\"1\" class=\"dataframe\">\n",
       "  <thead>\n",
       "    <tr style=\"text-align: right;\">\n",
       "      <th></th>\n",
       "      <th>name</th>\n",
       "      <th>value</th>\n",
       "    </tr>\n",
       "  </thead>\n",
       "  <tbody>\n",
       "    <tr>\n",
       "      <th>0</th>\n",
       "      <td>Aguaruna</td>\n",
       "      <td>AFF</td>\n",
       "    </tr>\n",
       "    <tr>\n",
       "      <th>1</th>\n",
       "      <td>Apurinã</td>\n",
       "      <td>N</td>\n",
       "    </tr>\n",
       "    <tr>\n",
       "      <th>2</th>\n",
       "      <td>Arhuaco</td>\n",
       "      <td>AFF</td>\n",
       "    </tr>\n",
       "    <tr>\n",
       "      <th>3</th>\n",
       "      <td>Awa-Cuaiquer</td>\n",
       "      <td>AFF</td>\n",
       "    </tr>\n",
       "    <tr>\n",
       "      <th>4</th>\n",
       "      <td>Baure</td>\n",
       "      <td>N</td>\n",
       "    </tr>\n",
       "  </tbody>\n",
       "</table>\n",
       "</div>"
      ],
      "text/plain": [
       "           name value\n",
       "0      Aguaruna   AFF\n",
       "1       Apurinã     N\n",
       "2       Arhuaco   AFF\n",
       "3  Awa-Cuaiquer   AFF\n",
       "4         Baure     N"
      ]
     },
     "execution_count": 23,
     "metadata": {},
     "output_type": "execute_result"
    }
   ],
   "source": [
    "value_name_past[:5]"
   ]
  },
  {
   "cell_type": "code",
   "execution_count": 24,
   "id": "542c58b3-47fb-470a-8682-22a8a7d6ca68",
   "metadata": {},
   "outputs": [],
   "source": [
    "#creamos un diccionario con las columnas 'name' y 'value'. Name=keys y value=values.\n",
    "dict_past = dict(zip(value_name_past['name'], value_name_past['value']))"
   ]
  },
  {
   "cell_type": "code",
   "execution_count": 25,
   "id": "aab7ecc0-f4fd-4933-82c8-bfa055e39f72",
   "metadata": {},
   "outputs": [
    {
     "data": {
      "text/plain": [
       "{'Aguaruna': 'AFF',\n",
       " 'Apurinã': 'N',\n",
       " 'Arhuaco': 'AFF',\n",
       " 'Awa-Cuaiquer': 'AFF',\n",
       " 'Baure': 'N',\n",
       " 'Bora': 'CLI',\n",
       " 'Bororo': 'N',\n",
       " 'Canela': 'N',\n",
       " 'Cavineña': 'AFF',\n",
       " 'Central Aymara': 'AFF',\n",
       " 'Chimila': 'N',\n",
       " 'Cocama-Cocamilla': 'CLI',\n",
       " 'Cubeo': 'AFF',\n",
       " 'Cusco Quechua': 'AFF',\n",
       " 'Desano': 'AFF',\n",
       " 'Dâw': 'AFF',\n",
       " 'Emerillon': 'CLI',\n",
       " 'Hixkaryána': 'AFF',\n",
       " 'Huallaga Huánuco  Quechua': 'AFF',\n",
       " 'Hupdë': 'PAR',\n",
       " 'Imbabura Highland Quichua': 'AFF',\n",
       " 'Itonama': 'N',\n",
       " 'Jamamadí': 'AFF',\n",
       " 'Kaingang': 'N',\n",
       " 'Kamayurá': 'N',\n",
       " 'Kanoê': 'PAR',\n",
       " 'Karitiâna': 'AFF',\n",
       " 'Karo (Brazil)': 'PAR',\n",
       " 'Kwaza': 'AFF',\n",
       " 'Leco': 'AFF',\n",
       " 'Mamaindé': 'AFF',\n",
       " 'Mapudungun': 'PAR',\n",
       " 'Matsés': 'AFF',\n",
       " 'Mocoví': 'N',\n",
       " 'Mosetén': 'PAR',\n",
       " 'Movima': 'PAR',\n",
       " 'Muniche': 'N',\n",
       " 'Nhengatu': 'N',\n",
       " 'Ninam': 'N',\n",
       " 'Northern Emberá': 'AFF',\n",
       " 'Panare': 'AFF',\n",
       " 'Parecís': 'CLI',\n",
       " 'Pilagá': 'N',\n",
       " 'Puinave': 'AFF',\n",
       " 'Páez': 'N',\n",
       " 'Rikbaktsa': 'AFF',\n",
       " 'Sabanê': 'AFF',\n",
       " 'Sakirabia': 'AFF',\n",
       " 'Sateré-Mawé': 'N',\n",
       " 'Shipibo-Conibo': 'AFF',\n",
       " 'Shuar': 'AFF',\n",
       " 'Tapieté': 'AFF',\n",
       " 'Tariana': 'CLI',\n",
       " 'Tehuelche': 'AFF',\n",
       " 'Trió': 'AFF',\n",
       " 'Trumai': 'PAR',\n",
       " 'Tsafiki': 'N',\n",
       " 'Urarina': 'N',\n",
       " 'Warao': 'AFF',\n",
       " 'Wari': 'CLI',\n",
       " 'Wichí Lhamtés Nocten': 'CLI',\n",
       " 'Yaminahua': 'AFF',\n",
       " \"Yanesha'\": 'N',\n",
       " 'Yuracaré': 'N'}"
      ]
     },
     "execution_count": 25,
     "metadata": {},
     "output_type": "execute_result"
    }
   ],
   "source": [
    "dict_past"
   ]
  },
  {
   "cell_type": "code",
   "execution_count": 26,
   "id": "8d74ed63-6dbe-4dba-bf87-ae169bce6461",
   "metadata": {},
   "outputs": [],
   "source": [
    "#extraemos los valores de dict_past\n",
    "valores_past = set(dict_past.values())"
   ]
  },
  {
   "cell_type": "code",
   "execution_count": 27,
   "id": "a4879a90-9050-401b-b274-6577f113f6f1",
   "metadata": {},
   "outputs": [
    {
     "data": {
      "text/plain": [
       "{'AFF', 'CLI', 'N', 'PAR'}"
      ]
     },
     "execution_count": 27,
     "metadata": {},
     "output_type": "execute_result"
    }
   ],
   "source": [
    "valores_past"
   ]
  },
  {
   "cell_type": "code",
   "execution_count": 28,
   "id": "fbbd82e7-168c-4b13-a287-3eee0061deac",
   "metadata": {},
   "outputs": [],
   "source": [
    "#creamos una lista llamada no_marcación_past que contendrá los keys (es decir, las lenguas) que tengan un value igual a \"N\"\n",
    "## empleamos un ciclo for que recorra los keys de dict_past y guarde en la lista aquellos con valor igual a \"N\n",
    "\n",
    "no_marcacion_past = []\n",
    "\n",
    "for key in dict_past.keys():\n",
    "    if dict_past[key] == 'N':\n",
    "        no_marcacion_past = no_marcacion_past + [key]"
   ]
  },
  {
   "cell_type": "code",
   "execution_count": 29,
   "id": "0fc9b570-73ae-4bc7-836e-cb3ca62b7fa0",
   "metadata": {},
   "outputs": [
    {
     "data": {
      "text/plain": [
       "['Apurinã', 'Baure', 'Bororo', 'Canela', 'Chimila']"
      ]
     },
     "execution_count": 29,
     "metadata": {},
     "output_type": "execute_result"
    }
   ],
   "source": [
    "#visualizamos la lista definida anteriormente\n",
    "no_marcacion_past[:5]"
   ]
  },
  {
   "cell_type": "code",
   "execution_count": 30,
   "id": "dad29f06-4bb9-442d-8072-6b6c65a4d216",
   "metadata": {},
   "outputs": [
    {
     "data": {
      "text/plain": [
       "19"
      ]
     },
     "execution_count": 30,
     "metadata": {},
     "output_type": "execute_result"
    }
   ],
   "source": [
    "#imprimimos el total de elementos de no_marcacion_past para saber el número de lenguas sin marcas morfosintáctica para pasado.\n",
    "len(no_marcacion_past)"
   ]
  },
  {
   "cell_type": "code",
   "execution_count": 31,
   "id": "3a96557e-f6ee-4c9f-b07f-4086946a2689",
   "metadata": {},
   "outputs": [],
   "source": [
    "#ahora definimos una nueva lista que contenga las lenguas con marcación morfológica de tiempo pasado llamada marcacion_past.\n",
    "##con un ciclo for buscamos los keys en dict_past que no estén en la lista no_marcacion_past y los guarde en la nueva lista.\n",
    "###el resultado serán las lenguas que tienen marcas morfológicas para pasado.\n",
    "\n",
    "marcacion_past = []\n",
    "\n",
    "for key in dict_past:\n",
    "    if key not in no_marcacion_past:\n",
    "        marcacion_past = marcacion_past + [key]"
   ]
  },
  {
   "cell_type": "code",
   "execution_count": 32,
   "id": "d7d32f4f-6b37-4c69-a8ab-16f579691441",
   "metadata": {},
   "outputs": [
    {
     "data": {
      "text/plain": [
       "['Aguaruna', 'Arhuaco', 'Awa-Cuaiquer', 'Bora', 'Cavineña']"
      ]
     },
     "execution_count": 32,
     "metadata": {},
     "output_type": "execute_result"
    }
   ],
   "source": [
    "#imprimimos la lista anterior\n",
    "marcacion_past[:5]"
   ]
  },
  {
   "cell_type": "code",
   "execution_count": 33,
   "id": "b9cac2e6-9fc4-4879-888c-69512449afd9",
   "metadata": {},
   "outputs": [
    {
     "data": {
      "text/plain": [
       "45"
      ]
     },
     "execution_count": 33,
     "metadata": {},
     "output_type": "execute_result"
    }
   ],
   "source": [
    "#imprimos el largo de la lista anterior  para saber el número de lenguas con marcas morfosintácticas para pasado.\n",
    "len(marcacion_past)"
   ]
  },
  {
   "cell_type": "markdown",
   "id": "5c8cf0a8-41b5-42c9-af06-5904bcab9b38",
   "metadata": {},
   "source": [
    "# 1.3 Tiempo Futuro"
   ]
  },
  {
   "cell_type": "code",
   "execution_count": 34,
   "id": "a6711217-515e-47c6-862c-791eca195941",
   "metadata": {},
   "outputs": [],
   "source": [
    "#definimos una lista llamada tiempo_futuro que contendrá la lectura del archivo con los datos de future_tense\n",
    "tiempo_futuro = pd.read_csv('future_tense.csv',sep=',',encoding='iso-8859-1')"
   ]
  },
  {
   "cell_type": "code",
   "execution_count": 35,
   "id": "bde0cca1-dd37-4d01-8992-637a69a54740",
   "metadata": {},
   "outputs": [
    {
     "data": {
      "text/html": [
       "<div>\n",
       "<style scoped>\n",
       "    .dataframe tbody tr th:only-of-type {\n",
       "        vertical-align: middle;\n",
       "    }\n",
       "\n",
       "    .dataframe tbody tr th {\n",
       "        vertical-align: top;\n",
       "    }\n",
       "\n",
       "    .dataframe thead th {\n",
       "        text-align: right;\n",
       "    }\n",
       "</style>\n",
       "<table border=\"1\" class=\"dataframe\">\n",
       "  <thead>\n",
       "    <tr style=\"text-align: right;\">\n",
       "      <th></th>\n",
       "      <th>iso-639-3</th>\n",
       "      <th>name</th>\n",
       "      <th>value</th>\n",
       "      <th>description</th>\n",
       "      <th>latitude</th>\n",
       "      <th>longitude</th>\n",
       "      <th>family</th>\n",
       "    </tr>\n",
       "  </thead>\n",
       "  <tbody>\n",
       "    <tr>\n",
       "      <th>0</th>\n",
       "      <td>agr</td>\n",
       "      <td>Aguaruna</td>\n",
       "      <td>AFF</td>\n",
       "      <td>affix</td>\n",
       "      <td>-5.300440</td>\n",
       "      <td>-77.921790</td>\n",
       "      <td>Chicham</td>\n",
       "    </tr>\n",
       "    <tr>\n",
       "      <th>1</th>\n",
       "      <td>apu</td>\n",
       "      <td>Apurinã</td>\n",
       "      <td>AFF</td>\n",
       "      <td>affix</td>\n",
       "      <td>-8.216920</td>\n",
       "      <td>-66.771410</td>\n",
       "      <td>Arawakan</td>\n",
       "    </tr>\n",
       "    <tr>\n",
       "      <th>2</th>\n",
       "      <td>arh</td>\n",
       "      <td>Arhuaco</td>\n",
       "      <td>AFF</td>\n",
       "      <td>affix</td>\n",
       "      <td>10.701840</td>\n",
       "      <td>-73.636290</td>\n",
       "      <td>Chibchan</td>\n",
       "    </tr>\n",
       "    <tr>\n",
       "      <th>3</th>\n",
       "      <td>kwi</td>\n",
       "      <td>Awa-Cuaiquer</td>\n",
       "      <td>AFF</td>\n",
       "      <td>affix</td>\n",
       "      <td>1.216525</td>\n",
       "      <td>-78.340135</td>\n",
       "      <td>Barbacoan</td>\n",
       "    </tr>\n",
       "    <tr>\n",
       "      <th>4</th>\n",
       "      <td>brg</td>\n",
       "      <td>Baure</td>\n",
       "      <td>N</td>\n",
       "      <td>no</td>\n",
       "      <td>-13.127750</td>\n",
       "      <td>-64.183810</td>\n",
       "      <td>Arawakan</td>\n",
       "    </tr>\n",
       "  </tbody>\n",
       "</table>\n",
       "</div>"
      ],
      "text/plain": [
       "  iso-639-3          name value description   latitude  longitude     family\n",
       "0       agr      Aguaruna   AFF       affix  -5.300440 -77.921790    Chicham\n",
       "1       apu       Apurinã   AFF       affix  -8.216920 -66.771410   Arawakan\n",
       "2       arh       Arhuaco   AFF       affix  10.701840 -73.636290   Chibchan\n",
       "3       kwi  Awa-Cuaiquer   AFF       affix   1.216525 -78.340135  Barbacoan\n",
       "4       brg         Baure     N          no -13.127750 -64.183810   Arawakan"
      ]
     },
     "execution_count": 35,
     "metadata": {},
     "output_type": "execute_result"
    }
   ],
   "source": [
    "#visualizamos la lista tiempo_futuro\n",
    "tiempo_futuro[:5]"
   ]
  },
  {
   "cell_type": "code",
   "execution_count": 36,
   "id": "6eb223ff-bad0-437d-97c9-50d88f9b21b2",
   "metadata": {},
   "outputs": [
    {
     "data": {
      "text/html": [
       "<div>\n",
       "<style scoped>\n",
       "    .dataframe tbody tr th:only-of-type {\n",
       "        vertical-align: middle;\n",
       "    }\n",
       "\n",
       "    .dataframe tbody tr th {\n",
       "        vertical-align: top;\n",
       "    }\n",
       "\n",
       "    .dataframe thead th {\n",
       "        text-align: right;\n",
       "    }\n",
       "</style>\n",
       "<table border=\"1\" class=\"dataframe\">\n",
       "  <thead>\n",
       "    <tr style=\"text-align: right;\">\n",
       "      <th></th>\n",
       "      <th>name</th>\n",
       "      <th>value</th>\n",
       "    </tr>\n",
       "  </thead>\n",
       "  <tbody>\n",
       "    <tr>\n",
       "      <th>0</th>\n",
       "      <td>Aguaruna</td>\n",
       "      <td>AFF</td>\n",
       "    </tr>\n",
       "    <tr>\n",
       "      <th>1</th>\n",
       "      <td>Apurinã</td>\n",
       "      <td>AFF</td>\n",
       "    </tr>\n",
       "    <tr>\n",
       "      <th>2</th>\n",
       "      <td>Arhuaco</td>\n",
       "      <td>AFF</td>\n",
       "    </tr>\n",
       "    <tr>\n",
       "      <th>3</th>\n",
       "      <td>Awa-Cuaiquer</td>\n",
       "      <td>AFF</td>\n",
       "    </tr>\n",
       "    <tr>\n",
       "      <th>4</th>\n",
       "      <td>Baure</td>\n",
       "      <td>N</td>\n",
       "    </tr>\n",
       "  </tbody>\n",
       "</table>\n",
       "</div>"
      ],
      "text/plain": [
       "           name value\n",
       "0      Aguaruna   AFF\n",
       "1       Apurinã   AFF\n",
       "2       Arhuaco   AFF\n",
       "3  Awa-Cuaiquer   AFF\n",
       "4         Baure     N"
      ]
     },
     "execution_count": 36,
     "metadata": {},
     "output_type": "execute_result"
    }
   ],
   "source": [
    "#visualizamos únicamente dos columnas de future_tense (name y value)\n",
    "tiempo_futuro[['name','value']][:5]"
   ]
  },
  {
   "cell_type": "code",
   "execution_count": 37,
   "id": "a2dbae6a-6efd-470b-a05e-f635e74c1077",
   "metadata": {},
   "outputs": [],
   "source": [
    "#definimos una nueva lista llamada value_name_past que contendrá solo las columnas 'name' y 'value'\n",
    "value_name_future = tiempo_futuro[['name','value']]"
   ]
  },
  {
   "cell_type": "code",
   "execution_count": 38,
   "id": "30e31eb9-3c44-471e-b278-31dbe5bbae9f",
   "metadata": {},
   "outputs": [
    {
     "data": {
      "text/html": [
       "<div>\n",
       "<style scoped>\n",
       "    .dataframe tbody tr th:only-of-type {\n",
       "        vertical-align: middle;\n",
       "    }\n",
       "\n",
       "    .dataframe tbody tr th {\n",
       "        vertical-align: top;\n",
       "    }\n",
       "\n",
       "    .dataframe thead th {\n",
       "        text-align: right;\n",
       "    }\n",
       "</style>\n",
       "<table border=\"1\" class=\"dataframe\">\n",
       "  <thead>\n",
       "    <tr style=\"text-align: right;\">\n",
       "      <th></th>\n",
       "      <th>name</th>\n",
       "      <th>value</th>\n",
       "    </tr>\n",
       "  </thead>\n",
       "  <tbody>\n",
       "    <tr>\n",
       "      <th>0</th>\n",
       "      <td>Aguaruna</td>\n",
       "      <td>AFF</td>\n",
       "    </tr>\n",
       "    <tr>\n",
       "      <th>1</th>\n",
       "      <td>Apurinã</td>\n",
       "      <td>AFF</td>\n",
       "    </tr>\n",
       "    <tr>\n",
       "      <th>2</th>\n",
       "      <td>Arhuaco</td>\n",
       "      <td>AFF</td>\n",
       "    </tr>\n",
       "    <tr>\n",
       "      <th>3</th>\n",
       "      <td>Awa-Cuaiquer</td>\n",
       "      <td>AFF</td>\n",
       "    </tr>\n",
       "    <tr>\n",
       "      <th>4</th>\n",
       "      <td>Baure</td>\n",
       "      <td>N</td>\n",
       "    </tr>\n",
       "  </tbody>\n",
       "</table>\n",
       "</div>"
      ],
      "text/plain": [
       "           name value\n",
       "0      Aguaruna   AFF\n",
       "1       Apurinã   AFF\n",
       "2       Arhuaco   AFF\n",
       "3  Awa-Cuaiquer   AFF\n",
       "4         Baure     N"
      ]
     },
     "execution_count": 38,
     "metadata": {},
     "output_type": "execute_result"
    }
   ],
   "source": [
    "value_name_future[:5]"
   ]
  },
  {
   "cell_type": "code",
   "execution_count": 39,
   "id": "c72a441b-85eb-4852-a9fa-9d2887b58ee6",
   "metadata": {},
   "outputs": [],
   "source": [
    "#creamos un diccionario con las columnas 'name' y 'value'. Name=keys y value=values.\n",
    "dict_fut = dict(zip(value_name_future['name'], value_name_future['value']))"
   ]
  },
  {
   "cell_type": "code",
   "execution_count": 40,
   "id": "00958e31-29e3-436c-bd4f-5dad93a69d57",
   "metadata": {},
   "outputs": [
    {
     "data": {
      "text/plain": [
       "{'Aguaruna': 'AFF',\n",
       " 'Apurinã': 'AFF',\n",
       " 'Arhuaco': 'AFF',\n",
       " 'Awa-Cuaiquer': 'AFF',\n",
       " 'Baure': 'N',\n",
       " 'Bora': 'AFF',\n",
       " 'Bororo': 'CLI',\n",
       " 'Canela': 'PAR',\n",
       " 'Cavineña': 'AFF',\n",
       " 'Central Aymara': 'AFF',\n",
       " 'Chimila': 'AFF',\n",
       " 'Cocama-Cocamilla': 'CLI',\n",
       " 'Cubeo': 'AFF',\n",
       " 'Cusco Quechua': 'AFF',\n",
       " 'Desano': 'AFF',\n",
       " 'Dâw': 'AFF',\n",
       " 'Emerillon': 'AFF',\n",
       " 'Hixkaryána': 'AFF',\n",
       " 'Huallaga Huánuco Quechua': 'AFF',\n",
       " 'Hupdë': 'AFF',\n",
       " 'Imbabura Highland Quichua': 'AFF',\n",
       " 'Itonama': 'AUX',\n",
       " 'Jamamadí': 'AFF',\n",
       " 'Kaingang': 'AFF',\n",
       " 'Kamayurá': 'PAR',\n",
       " 'Kanoê': 'AFF',\n",
       " 'Karitiâna': 'AFF',\n",
       " 'Karo (Brazil)': 'PAR',\n",
       " 'Kwaza': 'AFF',\n",
       " 'Leco': 'AFF',\n",
       " 'Mamaindé': 'AFF',\n",
       " 'Mapudungun': 'N',\n",
       " 'Matsés': 'AFF',\n",
       " 'Mocoví': 'N',\n",
       " 'Mosetén': 'CLI',\n",
       " 'Movima': 'PAR',\n",
       " 'Muniche': 'AFF',\n",
       " 'Nhengatu': 'PAR',\n",
       " 'Ninam': 'N',\n",
       " 'Northern Emberá': 'AFF',\n",
       " 'Panare': 'AFF',\n",
       " 'Parecís': 'PAR',\n",
       " 'Pilagá': 'N',\n",
       " 'Puinave': 'AFF',\n",
       " 'Páez': 'N',\n",
       " 'Rikbaktsa': 'AFF',\n",
       " 'Sabanê': 'AFF',\n",
       " 'Sakirabia': 'PAR',\n",
       " 'Sateré-Mawé': 'PAR',\n",
       " 'Shipibo-Conibo': 'AFF',\n",
       " 'Shuar': 'AFF',\n",
       " 'Tapieté': 'AFF',\n",
       " 'Tariana': 'CLI',\n",
       " 'Tehuelche': 'AFF',\n",
       " 'Trió': 'AFF',\n",
       " 'Trumai': 'N',\n",
       " 'Tsafiki': 'N',\n",
       " 'Urarina': 'N',\n",
       " 'Warao': 'AFF',\n",
       " 'Wari': 'CLI',\n",
       " 'Wichí Lhamtés Nocten': 'CLI',\n",
       " 'Yaminahua': 'AFF',\n",
       " \"Yanesha'\": 'CLI',\n",
       " 'Yuracaré': 'AFF'}"
      ]
     },
     "execution_count": 40,
     "metadata": {},
     "output_type": "execute_result"
    }
   ],
   "source": [
    "dict_fut"
   ]
  },
  {
   "cell_type": "code",
   "execution_count": 41,
   "id": "452a2792-28fd-45de-8181-769b3e2e6a49",
   "metadata": {},
   "outputs": [],
   "source": [
    "#extraemos los valores de dict_fut\n",
    "valores_fut = set(dict_fut.values())"
   ]
  },
  {
   "cell_type": "code",
   "execution_count": 42,
   "id": "32be46c6-0d8e-4a39-907a-e9b1a29736ba",
   "metadata": {},
   "outputs": [
    {
     "data": {
      "text/plain": [
       "{'AFF', 'AUX', 'CLI', 'N', 'PAR'}"
      ]
     },
     "execution_count": 42,
     "metadata": {},
     "output_type": "execute_result"
    }
   ],
   "source": [
    "valores_fut"
   ]
  },
  {
   "cell_type": "code",
   "execution_count": 43,
   "id": "98956319-d27b-43ae-adaf-5d38efec8cb7",
   "metadata": {},
   "outputs": [],
   "source": [
    "#creamos una lista llamada no_marcación_fut que contendrá los keys (es decir, las lenguas) que tengan un value igual a \"N\"\n",
    "## empleamos un ciclo for que recorra los keys de dict_fut y guarde en la lista aquellos con valor igual a \"N\n",
    "\n",
    "no_marcacion_fut = []\n",
    "\n",
    "for key in dict_fut.keys():\n",
    "    if dict_fut[key] == 'N':\n",
    "        no_marcacion_fut = no_marcacion_fut + [key]"
   ]
  },
  {
   "cell_type": "code",
   "execution_count": 44,
   "id": "691c6bb5-7dd3-4453-9272-7d0b60ad1443",
   "metadata": {},
   "outputs": [
    {
     "data": {
      "text/plain": [
       "['Baure', 'Mapudungun', 'Mocoví', 'Ninam', 'Pilagá']"
      ]
     },
     "execution_count": 44,
     "metadata": {},
     "output_type": "execute_result"
    }
   ],
   "source": [
    "#visualizamos la lista definida anteriormente\n",
    "no_marcacion_fut[:5]"
   ]
  },
  {
   "cell_type": "code",
   "execution_count": 45,
   "id": "662358f7-727e-46e3-9c0b-c4f4a804c701",
   "metadata": {},
   "outputs": [
    {
     "data": {
      "text/plain": [
       "9"
      ]
     },
     "execution_count": 45,
     "metadata": {},
     "output_type": "execute_result"
    }
   ],
   "source": [
    "#imprimimos el total de elementos de no_marcacion_past para saber el número de lenguas sin marcas morfosintáctica para futuro.\n",
    "len(no_marcacion_fut)"
   ]
  },
  {
   "cell_type": "code",
   "execution_count": 46,
   "id": "904b8def-3ff8-40bc-bbad-be1fbb4f7edd",
   "metadata": {},
   "outputs": [],
   "source": [
    "#ahora definimos una nueva lista que contenga las lenguas con marcación morfológica de tiempo futuro llamada marcacion_fut.\n",
    "##con un ciclo for buscamos los keys en dict_fut que no estén en la lista no_marcacion_fut y los guarde en la nueva lista.\n",
    "###el resultado serán las lenguas que tienen marcas morfológicas para futuro.\n",
    "\n",
    "marcacion_fut = []\n",
    "\n",
    "for key in dict_fut:\n",
    "    if key not in no_marcacion_fut:\n",
    "        marcacion_fut = marcacion_fut + [key]"
   ]
  },
  {
   "cell_type": "code",
   "execution_count": 47,
   "id": "80d8ed9b-7dbc-4cf1-a1f8-68635ae56c1f",
   "metadata": {},
   "outputs": [
    {
     "data": {
      "text/plain": [
       "['Aguaruna', 'Apurinã', 'Arhuaco', 'Awa-Cuaiquer', 'Bora']"
      ]
     },
     "execution_count": 47,
     "metadata": {},
     "output_type": "execute_result"
    }
   ],
   "source": [
    "#imprimimos la lista anterior\n",
    "marcacion_fut[:5]"
   ]
  },
  {
   "cell_type": "code",
   "execution_count": 48,
   "id": "1259d87e-0dbb-4942-b6a3-ab3b52bc87d5",
   "metadata": {},
   "outputs": [
    {
     "data": {
      "text/plain": [
       "55"
      ]
     },
     "execution_count": 48,
     "metadata": {},
     "output_type": "execute_result"
    }
   ],
   "source": [
    "#imprimos el largo de la lista anterior para saber el número de lenguas con marcas morfosintácticas para futuro.\n",
    "len(marcacion_fut)"
   ]
  },
  {
   "cell_type": "code",
   "execution_count": 109,
   "id": "a3afc35d-8c01-4b39-bce8-ca78568429d6",
   "metadata": {},
   "outputs": [
    {
     "name": "stdout",
     "output_type": "stream",
     "text": [
      "Collecting tabulate\n",
      "  Downloading tabulate-0.8.9-py3-none-any.whl (25 kB)\n",
      "Installing collected packages: tabulate\n",
      "Successfully installed tabulate-0.8.9\n",
      "Note: you may need to restart the kernel to use updated packages.\n"
     ]
    }
   ],
   "source": [
    "#instalamos una librería que nos permitirá hacer tablas\n",
    "pip install tabulate"
   ]
  },
  {
   "cell_type": "code",
   "execution_count": 110,
   "id": "bc26e494-f44f-4e6a-9d0f-548676bec6c6",
   "metadata": {},
   "outputs": [],
   "source": [
    "# importamos la función 'tabulate' de la librería instalada\n",
    "from tabulate import tabulate"
   ]
  },
  {
   "cell_type": "code",
   "execution_count": 136,
   "id": "2b183afc-00e3-4de3-9809-6f900a8c7df6",
   "metadata": {},
   "outputs": [],
   "source": [
    "#definimos un diccionario para crear nuestra tabla al que llamaremos tabla_tiempo\n",
    "#creamos keys que serán el encabezado de cada columna con los nombres: 'rasgo', 'presente', 'pasado' y 'futuro'\n",
    "#asignamos values para cada key. \n",
    "#Para rasgo: marcado/no marcado. \n",
    "#Para cada rasgo lingüístico de tiempo imprimimos el largo de las listas marcacion_x y no_marcacion_x. \n",
    "tabla_tiempo = {'Rasgo': ['Marcado', 'No marcado'], 'Presente': [(len(marcacion_present)), (len(no_marcacion_present))], 'Pasado': [(len(marcacion_past)), (len(no_marcacion_past))], 'Futuro': [(len(marcacion_fut)), (len(no_marcacion_fut))]}"
   ]
  },
  {
   "cell_type": "code",
   "execution_count": 137,
   "id": "f09ed5ae-05ba-499d-bfad-4ac92b63fa81",
   "metadata": {},
   "outputs": [
    {
     "name": "stdout",
     "output_type": "stream",
     "text": [
      "Rasgo         Presente    Pasado    Futuro\n",
      "----------  ----------  --------  --------\n",
      "Marcado             18        45        55\n",
      "No marcado          46        19         9\n"
     ]
    }
   ],
   "source": [
    "#imprimos la tabla creada\n",
    "print(tabulate(tabla_tiempo, headers='keys'))"
   ]
  },
  {
   "cell_type": "code",
   "execution_count": 138,
   "id": "43919f06-76ba-4412-9007-b8cc3ee36290",
   "metadata": {},
   "outputs": [
    {
     "name": "stdout",
     "output_type": "stream",
     "text": [
      "╒════════════╤════════════╤══════════╤══════════╕\n",
      "│ Rasgo      │   Presente │   Pasado │   Futuro │\n",
      "╞════════════╪════════════╪══════════╪══════════╡\n",
      "│ Marcado    │         18 │       45 │       55 │\n",
      "├────────────┼────────────┼──────────┼──────────┤\n",
      "│ No marcado │         46 │       19 │        9 │\n",
      "╘════════════╧════════════╧══════════╧══════════╛\n"
     ]
    }
   ],
   "source": [
    "#asignamos la función 'fancy_grid' para que nuestra tabla tenga bordes internos y externos\n",
    "print(tabulate(tabla_tiempo, headers='keys', tablefmt='fancy_grid'))"
   ]
  },
  {
   "cell_type": "markdown",
   "id": "7afa33b6-c328-43d5-817d-16d0233cb340",
   "metadata": {},
   "source": [
    "# 2. ASPECTO\n",
    "La segunda categoría TAM a visualizar es la de aspecto. Se compone de dos rasgos lingüísticos: aspecto perfectivo y aspecto imperfectivo."
   ]
  },
  {
   "cell_type": "markdown",
   "id": "23ad1f8e-4d95-44c0-9536-cc6b22e3c5a5",
   "metadata": {},
   "source": [
    "# 2.1 Aspecto Perfectivo"
   ]
  },
  {
   "cell_type": "code",
   "execution_count": 49,
   "id": "721493c5-54c7-4bcd-97ff-ff32f76c6175",
   "metadata": {},
   "outputs": [],
   "source": [
    "#definimos una lista llamada aspecto_perfectivo que contendrá la lectura del archivo con los datos de perfective_aspect\n",
    "aspecto_perfectivo = pd.read_csv('perfective_aspect.csv',sep=',',encoding='iso-8859-1')"
   ]
  },
  {
   "cell_type": "code",
   "execution_count": 50,
   "id": "07964dce-f5a5-405f-8dde-1f87f5297927",
   "metadata": {},
   "outputs": [
    {
     "data": {
      "text/html": [
       "<div>\n",
       "<style scoped>\n",
       "    .dataframe tbody tr th:only-of-type {\n",
       "        vertical-align: middle;\n",
       "    }\n",
       "\n",
       "    .dataframe tbody tr th {\n",
       "        vertical-align: top;\n",
       "    }\n",
       "\n",
       "    .dataframe thead th {\n",
       "        text-align: right;\n",
       "    }\n",
       "</style>\n",
       "<table border=\"1\" class=\"dataframe\">\n",
       "  <thead>\n",
       "    <tr style=\"text-align: right;\">\n",
       "      <th></th>\n",
       "      <th>iso-639-3</th>\n",
       "      <th>name</th>\n",
       "      <th>value</th>\n",
       "      <th>description</th>\n",
       "      <th>latitude</th>\n",
       "      <th>longitude</th>\n",
       "      <th>family</th>\n",
       "    </tr>\n",
       "  </thead>\n",
       "  <tbody>\n",
       "    <tr>\n",
       "      <th>0</th>\n",
       "      <td>agr</td>\n",
       "      <td>Aguaruna</td>\n",
       "      <td>N</td>\n",
       "      <td>no</td>\n",
       "      <td>-5.300440</td>\n",
       "      <td>-77.921790</td>\n",
       "      <td>Chicham</td>\n",
       "    </tr>\n",
       "    <tr>\n",
       "      <th>1</th>\n",
       "      <td>apu</td>\n",
       "      <td>Apurinã</td>\n",
       "      <td>AFF</td>\n",
       "      <td>affix</td>\n",
       "      <td>-8.216920</td>\n",
       "      <td>-66.771410</td>\n",
       "      <td>Arawakan</td>\n",
       "    </tr>\n",
       "    <tr>\n",
       "      <th>2</th>\n",
       "      <td>arh</td>\n",
       "      <td>Arhuaco</td>\n",
       "      <td>N</td>\n",
       "      <td>no</td>\n",
       "      <td>10.701840</td>\n",
       "      <td>-73.636290</td>\n",
       "      <td>Chibchan</td>\n",
       "    </tr>\n",
       "    <tr>\n",
       "      <th>3</th>\n",
       "      <td>kwi</td>\n",
       "      <td>Awa-Cuaiquer</td>\n",
       "      <td>N</td>\n",
       "      <td>no</td>\n",
       "      <td>1.216525</td>\n",
       "      <td>-78.340135</td>\n",
       "      <td>Barbacoan</td>\n",
       "    </tr>\n",
       "    <tr>\n",
       "      <th>4</th>\n",
       "      <td>brg</td>\n",
       "      <td>Baure</td>\n",
       "      <td>AFF</td>\n",
       "      <td>affix</td>\n",
       "      <td>-13.127750</td>\n",
       "      <td>-64.183810</td>\n",
       "      <td>Arawakan</td>\n",
       "    </tr>\n",
       "  </tbody>\n",
       "</table>\n",
       "</div>"
      ],
      "text/plain": [
       "  iso-639-3          name value description   latitude  longitude     family\n",
       "0       agr      Aguaruna     N          no  -5.300440 -77.921790    Chicham\n",
       "1       apu       Apurinã   AFF       affix  -8.216920 -66.771410   Arawakan\n",
       "2       arh       Arhuaco     N          no  10.701840 -73.636290   Chibchan\n",
       "3       kwi  Awa-Cuaiquer     N          no   1.216525 -78.340135  Barbacoan\n",
       "4       brg         Baure   AFF       affix -13.127750 -64.183810   Arawakan"
      ]
     },
     "execution_count": 50,
     "metadata": {},
     "output_type": "execute_result"
    }
   ],
   "source": [
    "#visualizamos la lista definida anteriormente\n",
    "aspecto_perfectivo[:5]"
   ]
  },
  {
   "cell_type": "code",
   "execution_count": 51,
   "id": "843b205e-2d9c-4226-87c5-9878ebf64a76",
   "metadata": {},
   "outputs": [
    {
     "data": {
      "text/html": [
       "<div>\n",
       "<style scoped>\n",
       "    .dataframe tbody tr th:only-of-type {\n",
       "        vertical-align: middle;\n",
       "    }\n",
       "\n",
       "    .dataframe tbody tr th {\n",
       "        vertical-align: top;\n",
       "    }\n",
       "\n",
       "    .dataframe thead th {\n",
       "        text-align: right;\n",
       "    }\n",
       "</style>\n",
       "<table border=\"1\" class=\"dataframe\">\n",
       "  <thead>\n",
       "    <tr style=\"text-align: right;\">\n",
       "      <th></th>\n",
       "      <th>name</th>\n",
       "      <th>value</th>\n",
       "    </tr>\n",
       "  </thead>\n",
       "  <tbody>\n",
       "    <tr>\n",
       "      <th>0</th>\n",
       "      <td>Aguaruna</td>\n",
       "      <td>N</td>\n",
       "    </tr>\n",
       "    <tr>\n",
       "      <th>1</th>\n",
       "      <td>Apurinã</td>\n",
       "      <td>AFF</td>\n",
       "    </tr>\n",
       "    <tr>\n",
       "      <th>2</th>\n",
       "      <td>Arhuaco</td>\n",
       "      <td>N</td>\n",
       "    </tr>\n",
       "    <tr>\n",
       "      <th>3</th>\n",
       "      <td>Awa-Cuaiquer</td>\n",
       "      <td>N</td>\n",
       "    </tr>\n",
       "    <tr>\n",
       "      <th>4</th>\n",
       "      <td>Baure</td>\n",
       "      <td>AFF</td>\n",
       "    </tr>\n",
       "  </tbody>\n",
       "</table>\n",
       "</div>"
      ],
      "text/plain": [
       "           name value\n",
       "0      Aguaruna     N\n",
       "1       Apurinã   AFF\n",
       "2       Arhuaco     N\n",
       "3  Awa-Cuaiquer     N\n",
       "4         Baure   AFF"
      ]
     },
     "execution_count": 51,
     "metadata": {},
     "output_type": "execute_result"
    }
   ],
   "source": [
    "#visualizamos únicamente dos columnas de perfective_aspect (name y value)\n",
    "aspecto_perfectivo[['name','value']][:5]"
   ]
  },
  {
   "cell_type": "code",
   "execution_count": 52,
   "id": "d6836759-92a1-4fb2-ac42-d2410c7a0d0b",
   "metadata": {},
   "outputs": [],
   "source": [
    "#definimos una nueva lista llamada value_name_perfective que contendrá solo las columnas 'name' y 'value'\n",
    "value_name_perfective = aspecto_perfectivo[['name','value']]"
   ]
  },
  {
   "cell_type": "code",
   "execution_count": 53,
   "id": "5b5d3f7e-63c7-496a-bc2c-5fd4b191bead",
   "metadata": {},
   "outputs": [
    {
     "data": {
      "text/html": [
       "<div>\n",
       "<style scoped>\n",
       "    .dataframe tbody tr th:only-of-type {\n",
       "        vertical-align: middle;\n",
       "    }\n",
       "\n",
       "    .dataframe tbody tr th {\n",
       "        vertical-align: top;\n",
       "    }\n",
       "\n",
       "    .dataframe thead th {\n",
       "        text-align: right;\n",
       "    }\n",
       "</style>\n",
       "<table border=\"1\" class=\"dataframe\">\n",
       "  <thead>\n",
       "    <tr style=\"text-align: right;\">\n",
       "      <th></th>\n",
       "      <th>name</th>\n",
       "      <th>value</th>\n",
       "    </tr>\n",
       "  </thead>\n",
       "  <tbody>\n",
       "    <tr>\n",
       "      <th>0</th>\n",
       "      <td>Aguaruna</td>\n",
       "      <td>N</td>\n",
       "    </tr>\n",
       "    <tr>\n",
       "      <th>1</th>\n",
       "      <td>Apurinã</td>\n",
       "      <td>AFF</td>\n",
       "    </tr>\n",
       "    <tr>\n",
       "      <th>2</th>\n",
       "      <td>Arhuaco</td>\n",
       "      <td>N</td>\n",
       "    </tr>\n",
       "    <tr>\n",
       "      <th>3</th>\n",
       "      <td>Awa-Cuaiquer</td>\n",
       "      <td>N</td>\n",
       "    </tr>\n",
       "    <tr>\n",
       "      <th>4</th>\n",
       "      <td>Baure</td>\n",
       "      <td>AFF</td>\n",
       "    </tr>\n",
       "  </tbody>\n",
       "</table>\n",
       "</div>"
      ],
      "text/plain": [
       "           name value\n",
       "0      Aguaruna     N\n",
       "1       Apurinã   AFF\n",
       "2       Arhuaco     N\n",
       "3  Awa-Cuaiquer     N\n",
       "4         Baure   AFF"
      ]
     },
     "execution_count": 53,
     "metadata": {},
     "output_type": "execute_result"
    }
   ],
   "source": [
    "value_name_perfective[:5]"
   ]
  },
  {
   "cell_type": "code",
   "execution_count": 54,
   "id": "e8124630-9a9b-41d0-8715-2caa06f38269",
   "metadata": {},
   "outputs": [],
   "source": [
    "#creamos un diccionario con las columnas 'name' y 'value'. Name=keys y value=values.\n",
    "dict_PFV = dict(zip(value_name_perfective['name'], value_name_perfective['value']))"
   ]
  },
  {
   "cell_type": "code",
   "execution_count": 55,
   "id": "f4ad2ea1-f9b8-4349-87d8-4a93773523fe",
   "metadata": {},
   "outputs": [
    {
     "data": {
      "text/plain": [
       "{'Aguaruna': 'N',\n",
       " 'Apurinã': 'AFF',\n",
       " 'Arhuaco': 'N',\n",
       " 'Awa-Cuaiquer': 'N',\n",
       " 'Baure': 'AFF',\n",
       " 'Bora': 'AFF',\n",
       " 'Bororo': 'N',\n",
       " 'Canela': 'N',\n",
       " 'Cavineña': 'N',\n",
       " 'Central Aymara': 'N',\n",
       " 'Chimila': 'AFF',\n",
       " 'Cocama-Cocamilla': 'N',\n",
       " 'Cubeo': 'N',\n",
       " 'Cusco Quechua': 'AFF',\n",
       " 'Desano': 'AFF',\n",
       " 'Dâw': 'AUX',\n",
       " 'Emerillon': 'N',\n",
       " 'Hixkaryána': 'AFF',\n",
       " 'Huallaga': 'AFF',\n",
       " 'Hupdë': 'AFF',\n",
       " 'Imbabura Highland Quichua': 'N',\n",
       " 'Itonama': 'N',\n",
       " 'Jamamadí': 'N',\n",
       " 'Kaingang': 'PAR',\n",
       " 'Kamayurá': 'N',\n",
       " 'Kanoê': 'N',\n",
       " 'Karitiâna': 'N',\n",
       " 'Karo (Brazil)': 'N',\n",
       " 'Kwaza': 'N',\n",
       " 'Leco': 'AFF',\n",
       " 'Mamaindé': 'N',\n",
       " 'Mapudungun': 'N',\n",
       " 'Matsés': 'N',\n",
       " 'Mocoví': 'N',\n",
       " 'Mosetén': 'N',\n",
       " 'Movima': 'N',\n",
       " 'Muniche': 'AFF',\n",
       " 'Nhengatu': 'CLI',\n",
       " 'Ninam': 'AFF',\n",
       " 'Northern Emberá': 'N',\n",
       " 'Panare': 'AFF',\n",
       " 'Parecís': 'N',\n",
       " 'Pilagá': 'N',\n",
       " 'Puinave': 'N',\n",
       " 'Páez': 'N',\n",
       " 'Rikbaktsa': 'N',\n",
       " 'Sabanê': 'N',\n",
       " 'Sakirabia': 'N',\n",
       " 'Sateré-Mawé': 'PAR',\n",
       " 'Shipibo-Conibo': 'AFF',\n",
       " 'Shuar': 'AFF',\n",
       " 'Tapieté': 'N',\n",
       " 'Tariana': 'N',\n",
       " 'Tehuelche': 'N',\n",
       " 'Trió': 'AFF',\n",
       " 'Trumai': 'AUX',\n",
       " 'Tsafiki': 'AFF',\n",
       " 'Urarina': 'N',\n",
       " 'Warao': 'AFF',\n",
       " 'Wari': 'N',\n",
       " 'Wichí Lhamtés Nocten': 'N',\n",
       " 'Yaminahua': 'AFF',\n",
       " \"Yanesha'\": 'N',\n",
       " 'Yuracaré': 'AFF'}"
      ]
     },
     "execution_count": 55,
     "metadata": {},
     "output_type": "execute_result"
    }
   ],
   "source": [
    "dict_PFV"
   ]
  },
  {
   "cell_type": "code",
   "execution_count": 56,
   "id": "ffb36f54-9bf0-4061-8970-8544a0adc37f",
   "metadata": {},
   "outputs": [],
   "source": [
    "#extraemos los valores de dict_perfective\n",
    "valores_PFV = set(dict_PFV.values())"
   ]
  },
  {
   "cell_type": "code",
   "execution_count": 57,
   "id": "518493ed-faa1-40f1-9d49-754234eb866e",
   "metadata": {},
   "outputs": [
    {
     "data": {
      "text/plain": [
       "{'AFF', 'AUX', 'CLI', 'N', 'PAR'}"
      ]
     },
     "execution_count": 57,
     "metadata": {},
     "output_type": "execute_result"
    }
   ],
   "source": [
    "valores_PFV"
   ]
  },
  {
   "cell_type": "code",
   "execution_count": 58,
   "id": "7ea5e7bb-29ca-4632-be57-c5138f2db17c",
   "metadata": {},
   "outputs": [],
   "source": [
    "#creamos una lista llamada no_marcación_PFV que contendrá los keys (es decir, las lenguas) que tengan un value igual a \"N\"\n",
    "## empleamos un ciclo for que recorra los keys de dict_PFV y guarde en la lista aquellos con valor igual a \"N\n",
    "no_marcacion_PFV = []\n",
    "\n",
    "for key in dict_PFV.keys():\n",
    "    if dict_PFV[key] == 'N':\n",
    "        no_marcacion_PFV = no_marcacion_PFV + [key]"
   ]
  },
  {
   "cell_type": "code",
   "execution_count": 59,
   "id": "ffb02e7e-5389-4faf-a519-4f624c36ee61",
   "metadata": {},
   "outputs": [
    {
     "data": {
      "text/plain": [
       "['Aguaruna', 'Arhuaco', 'Awa-Cuaiquer', 'Bororo', 'Canela']"
      ]
     },
     "execution_count": 59,
     "metadata": {},
     "output_type": "execute_result"
    }
   ],
   "source": [
    "#visualizamos la lista definida anteriormente\n",
    "no_marcacion_PFV[:5]"
   ]
  },
  {
   "cell_type": "code",
   "execution_count": 60,
   "id": "4f1f927a-b880-46c1-ba51-32297a3e3853",
   "metadata": {},
   "outputs": [
    {
     "data": {
      "text/plain": [
       "39"
      ]
     },
     "execution_count": 60,
     "metadata": {},
     "output_type": "execute_result"
    }
   ],
   "source": [
    "#imprimimos el total de elementos de no_marcacion_PFV para saber el número de lenguas sin marcas morfosintáctica para aspecto perfectivo.\n",
    "len(no_marcacion_PFV)"
   ]
  },
  {
   "cell_type": "code",
   "execution_count": 61,
   "id": "618a062b-138a-4753-a180-754942221fc9",
   "metadata": {},
   "outputs": [],
   "source": [
    "#ahora definimos una nueva lista que contenga las lenguas con marcación morfológica de aspecto perfectivo llamada marcacion_PFV.\n",
    "##con un ciclo for buscamos los keys en dict_fut que no estén en la lista no_marcacion_PFV y los guarde en la nueva lista.\n",
    "###el resultado serán las lenguas que tienen marcas morfológicas para aspecto perfectivo.\n",
    "\n",
    "marcacion_PFV = []\n",
    "\n",
    "for key in dict_PFV:\n",
    "    if key not in no_marcacion_PFV:\n",
    "        marcacion_PFV = marcacion_PFV + [key]"
   ]
  },
  {
   "cell_type": "code",
   "execution_count": 62,
   "id": "7ac7bb16-d5da-44ad-b087-52295c3e26fd",
   "metadata": {},
   "outputs": [
    {
     "data": {
      "text/plain": [
       "['Apurinã', 'Baure', 'Bora', 'Chimila', 'Cusco Quechua']"
      ]
     },
     "execution_count": 62,
     "metadata": {},
     "output_type": "execute_result"
    }
   ],
   "source": [
    "#visualizamos la lista definida anteriormente\n",
    "marcacion_PFV[:5]"
   ]
  },
  {
   "cell_type": "code",
   "execution_count": 63,
   "id": "6fc9b4a6-8607-4c54-aa52-3672f25b9bc0",
   "metadata": {},
   "outputs": [
    {
     "data": {
      "text/plain": [
       "25"
      ]
     },
     "execution_count": 63,
     "metadata": {},
     "output_type": "execute_result"
    }
   ],
   "source": [
    "#imprimimos el total de elementos de marcacion_PFV para saber el número de lenguas con marcas morfosintáctica para aspecto perfectivo.\n",
    "len(marcacion_PFV)"
   ]
  },
  {
   "cell_type": "markdown",
   "id": "d00d762a-a9af-4c76-b48c-6ba70e0db3e8",
   "metadata": {},
   "source": [
    "# 2.2 Aspecto Imperfectivo"
   ]
  },
  {
   "cell_type": "code",
   "execution_count": 64,
   "id": "470b1501-f186-4939-894a-8761e62e111d",
   "metadata": {},
   "outputs": [],
   "source": [
    "#definimos una lista llamada aspecto_IMperfectivo que contendrá la lectura del archivo con los datos de imperfective_aspect\n",
    "aspecto_imperfectivo = pd.read_csv('imperfective_aspect.csv',sep=',',encoding='iso-8859-1')"
   ]
  },
  {
   "cell_type": "code",
   "execution_count": 65,
   "id": "d5efc73d-be74-4dd7-9d51-1f2f7cc4f945",
   "metadata": {},
   "outputs": [
    {
     "data": {
      "text/html": [
       "<div>\n",
       "<style scoped>\n",
       "    .dataframe tbody tr th:only-of-type {\n",
       "        vertical-align: middle;\n",
       "    }\n",
       "\n",
       "    .dataframe tbody tr th {\n",
       "        vertical-align: top;\n",
       "    }\n",
       "\n",
       "    .dataframe thead th {\n",
       "        text-align: right;\n",
       "    }\n",
       "</style>\n",
       "<table border=\"1\" class=\"dataframe\">\n",
       "  <thead>\n",
       "    <tr style=\"text-align: right;\">\n",
       "      <th></th>\n",
       "      <th>iso-639-3</th>\n",
       "      <th>name</th>\n",
       "      <th>value</th>\n",
       "      <th>description</th>\n",
       "      <th>latitude</th>\n",
       "      <th>longitude</th>\n",
       "      <th>family</th>\n",
       "    </tr>\n",
       "  </thead>\n",
       "  <tbody>\n",
       "    <tr>\n",
       "      <th>0</th>\n",
       "      <td>agr</td>\n",
       "      <td>Aguaruna</td>\n",
       "      <td>AFF</td>\n",
       "      <td>affix</td>\n",
       "      <td>-5.300440</td>\n",
       "      <td>-77.921790</td>\n",
       "      <td>Chicham</td>\n",
       "    </tr>\n",
       "    <tr>\n",
       "      <th>1</th>\n",
       "      <td>apu</td>\n",
       "      <td>Apurinã</td>\n",
       "      <td>N</td>\n",
       "      <td>no</td>\n",
       "      <td>-8.216920</td>\n",
       "      <td>-66.771410</td>\n",
       "      <td>Arawakan</td>\n",
       "    </tr>\n",
       "    <tr>\n",
       "      <th>2</th>\n",
       "      <td>arh</td>\n",
       "      <td>Arhuaco</td>\n",
       "      <td>N</td>\n",
       "      <td>no</td>\n",
       "      <td>10.701840</td>\n",
       "      <td>-73.636290</td>\n",
       "      <td>Chibchan</td>\n",
       "    </tr>\n",
       "    <tr>\n",
       "      <th>3</th>\n",
       "      <td>kwi</td>\n",
       "      <td>Awa-Cuaiquer</td>\n",
       "      <td>AFF</td>\n",
       "      <td>affix</td>\n",
       "      <td>1.216525</td>\n",
       "      <td>-78.340135</td>\n",
       "      <td>Barbacoan</td>\n",
       "    </tr>\n",
       "    <tr>\n",
       "      <th>4</th>\n",
       "      <td>brg</td>\n",
       "      <td>Baure</td>\n",
       "      <td>N</td>\n",
       "      <td>no</td>\n",
       "      <td>-13.127750</td>\n",
       "      <td>-64.183810</td>\n",
       "      <td>Arawakan</td>\n",
       "    </tr>\n",
       "  </tbody>\n",
       "</table>\n",
       "</div>"
      ],
      "text/plain": [
       "  iso-639-3          name value description   latitude  longitude     family\n",
       "0       agr      Aguaruna   AFF       affix  -5.300440 -77.921790    Chicham\n",
       "1       apu       Apurinã     N          no  -8.216920 -66.771410   Arawakan\n",
       "2       arh       Arhuaco     N          no  10.701840 -73.636290   Chibchan\n",
       "3       kwi  Awa-Cuaiquer   AFF       affix   1.216525 -78.340135  Barbacoan\n",
       "4       brg         Baure     N          no -13.127750 -64.183810   Arawakan"
      ]
     },
     "execution_count": 65,
     "metadata": {},
     "output_type": "execute_result"
    }
   ],
   "source": [
    "#visualizamos la lista definida anteriormente\n",
    "aspecto_imperfectivo[:5]"
   ]
  },
  {
   "cell_type": "code",
   "execution_count": 66,
   "id": "2d4cfd81-499f-4aaf-b8cc-59f975b6abb1",
   "metadata": {},
   "outputs": [
    {
     "data": {
      "text/html": [
       "<div>\n",
       "<style scoped>\n",
       "    .dataframe tbody tr th:only-of-type {\n",
       "        vertical-align: middle;\n",
       "    }\n",
       "\n",
       "    .dataframe tbody tr th {\n",
       "        vertical-align: top;\n",
       "    }\n",
       "\n",
       "    .dataframe thead th {\n",
       "        text-align: right;\n",
       "    }\n",
       "</style>\n",
       "<table border=\"1\" class=\"dataframe\">\n",
       "  <thead>\n",
       "    <tr style=\"text-align: right;\">\n",
       "      <th></th>\n",
       "      <th>name</th>\n",
       "      <th>value</th>\n",
       "    </tr>\n",
       "  </thead>\n",
       "  <tbody>\n",
       "    <tr>\n",
       "      <th>0</th>\n",
       "      <td>Aguaruna</td>\n",
       "      <td>AFF</td>\n",
       "    </tr>\n",
       "    <tr>\n",
       "      <th>1</th>\n",
       "      <td>Apurinã</td>\n",
       "      <td>N</td>\n",
       "    </tr>\n",
       "    <tr>\n",
       "      <th>2</th>\n",
       "      <td>Arhuaco</td>\n",
       "      <td>N</td>\n",
       "    </tr>\n",
       "    <tr>\n",
       "      <th>3</th>\n",
       "      <td>Awa-Cuaiquer</td>\n",
       "      <td>AFF</td>\n",
       "    </tr>\n",
       "    <tr>\n",
       "      <th>4</th>\n",
       "      <td>Baure</td>\n",
       "      <td>N</td>\n",
       "    </tr>\n",
       "  </tbody>\n",
       "</table>\n",
       "</div>"
      ],
      "text/plain": [
       "           name value\n",
       "0      Aguaruna   AFF\n",
       "1       Apurinã     N\n",
       "2       Arhuaco     N\n",
       "3  Awa-Cuaiquer   AFF\n",
       "4         Baure     N"
      ]
     },
     "execution_count": 66,
     "metadata": {},
     "output_type": "execute_result"
    }
   ],
   "source": [
    "#visualizamos únicamente dos columnas de imperfective_aspect (name y value)\n",
    "aspecto_imperfectivo[['name','value']][:5]"
   ]
  },
  {
   "cell_type": "code",
   "execution_count": 67,
   "id": "84221304-7f21-4b0a-85fb-b32ec5096c88",
   "metadata": {},
   "outputs": [],
   "source": [
    "#definimos una nueva lista llamada value_name_perfective que contendrá solo las columnas 'name' y 'value'\n",
    "value_name_imperfective = aspecto_imperfectivo[['name','value']]"
   ]
  },
  {
   "cell_type": "code",
   "execution_count": 68,
   "id": "7073647a-70b4-4e61-9dec-fef924923e60",
   "metadata": {},
   "outputs": [
    {
     "data": {
      "text/html": [
       "<div>\n",
       "<style scoped>\n",
       "    .dataframe tbody tr th:only-of-type {\n",
       "        vertical-align: middle;\n",
       "    }\n",
       "\n",
       "    .dataframe tbody tr th {\n",
       "        vertical-align: top;\n",
       "    }\n",
       "\n",
       "    .dataframe thead th {\n",
       "        text-align: right;\n",
       "    }\n",
       "</style>\n",
       "<table border=\"1\" class=\"dataframe\">\n",
       "  <thead>\n",
       "    <tr style=\"text-align: right;\">\n",
       "      <th></th>\n",
       "      <th>name</th>\n",
       "      <th>value</th>\n",
       "    </tr>\n",
       "  </thead>\n",
       "  <tbody>\n",
       "    <tr>\n",
       "      <th>0</th>\n",
       "      <td>Aguaruna</td>\n",
       "      <td>AFF</td>\n",
       "    </tr>\n",
       "    <tr>\n",
       "      <th>1</th>\n",
       "      <td>Apurinã</td>\n",
       "      <td>N</td>\n",
       "    </tr>\n",
       "    <tr>\n",
       "      <th>2</th>\n",
       "      <td>Arhuaco</td>\n",
       "      <td>N</td>\n",
       "    </tr>\n",
       "    <tr>\n",
       "      <th>3</th>\n",
       "      <td>Awa-Cuaiquer</td>\n",
       "      <td>AFF</td>\n",
       "    </tr>\n",
       "    <tr>\n",
       "      <th>4</th>\n",
       "      <td>Baure</td>\n",
       "      <td>N</td>\n",
       "    </tr>\n",
       "  </tbody>\n",
       "</table>\n",
       "</div>"
      ],
      "text/plain": [
       "           name value\n",
       "0      Aguaruna   AFF\n",
       "1       Apurinã     N\n",
       "2       Arhuaco     N\n",
       "3  Awa-Cuaiquer   AFF\n",
       "4         Baure     N"
      ]
     },
     "execution_count": 68,
     "metadata": {},
     "output_type": "execute_result"
    }
   ],
   "source": [
    "value_name_imperfective[:5]"
   ]
  },
  {
   "cell_type": "code",
   "execution_count": 69,
   "id": "52b1845f-20f3-43a5-877b-1cadc36f90b8",
   "metadata": {},
   "outputs": [],
   "source": [
    "#creamos un diccionario con las columnas 'name' y 'value'. Name=keys y value=values.\n",
    "dict_IPFV = dict(zip(value_name_imperfective['name'], value_name_imperfective['value']))"
   ]
  },
  {
   "cell_type": "code",
   "execution_count": 70,
   "id": "7f707170-28cd-4113-94b1-3a59fb1c35c0",
   "metadata": {},
   "outputs": [
    {
     "data": {
      "text/plain": [
       "{'Aguaruna': 'AFF',\n",
       " 'Apurinã': 'N',\n",
       " 'Arhuaco': 'N',\n",
       " 'Awa-Cuaiquer': 'AFF',\n",
       " 'Baure': 'N',\n",
       " 'Bora': 'N',\n",
       " 'Bororo': 'N',\n",
       " 'Canela': 'N',\n",
       " 'Cavineña': 'AFF',\n",
       " 'Central Aymara': 'N',\n",
       " 'Chimila': 'AFF',\n",
       " 'Cocama-Cocamilla': 'N',\n",
       " 'Cubeo': 'N',\n",
       " 'Cusco Quechua': '?',\n",
       " 'Desano': 'N',\n",
       " 'Dâw': 'N',\n",
       " 'Emerillon': 'N',\n",
       " 'Hixkaryána': 'AFF',\n",
       " 'Huallaga Huánaco Quechua': 'AFF',\n",
       " 'Hupdë': 'N',\n",
       " 'Imbabura Highland Quichua': 'N',\n",
       " 'Itonama': 'N',\n",
       " 'Jamamadí': 'N',\n",
       " 'Kaingang': 'PAR',\n",
       " 'Kamayurá': 'N',\n",
       " 'Kanoê': 'REP',\n",
       " 'Karitiâna': 'N',\n",
       " 'Karo (Brazil)': 'N',\n",
       " 'Kwaza': 'N',\n",
       " 'Leco': 'AFF',\n",
       " 'Mamaindé': 'N',\n",
       " 'Mapudungun': 'N',\n",
       " 'Matsés': 'N',\n",
       " 'Mocoví': 'N',\n",
       " 'Mosetén': 'N',\n",
       " 'Movima': 'N',\n",
       " 'Muniche': 'AFF',\n",
       " 'Nhengatu': 'CLI',\n",
       " 'Ninam': 'AFF',\n",
       " 'Northern Emberá': 'AFF',\n",
       " 'Panare': 'AFF',\n",
       " 'Parecís': 'AFF',\n",
       " 'Pilagá': 'N',\n",
       " 'Puinave': 'CLI',\n",
       " 'Páez': 'STEM',\n",
       " 'Rikbaktsa': 'N',\n",
       " 'Sabanê': 'N',\n",
       " 'Sakirabia': 'N',\n",
       " 'Sateré-Mawé': '?',\n",
       " 'Shipibo-Conibo': 'AFF',\n",
       " 'Tapieté': 'N',\n",
       " 'Tariana': 'N',\n",
       " 'Tehuelche': 'N',\n",
       " 'Trió': 'AFF',\n",
       " 'Trumai': 'N',\n",
       " 'Tsafiki': 'AFF',\n",
       " 'Urarina': 'N',\n",
       " 'Warao': 'N',\n",
       " 'Wari': 'N',\n",
       " 'Wichí Lhamtés Nocten': 'AFF',\n",
       " 'Yaminahua': 'AFF',\n",
       " \"Yanesha'\": 'N',\n",
       " 'Yuracaré': 'AFF'}"
      ]
     },
     "execution_count": 70,
     "metadata": {},
     "output_type": "execute_result"
    }
   ],
   "source": [
    "dict_IPFV "
   ]
  },
  {
   "cell_type": "code",
   "execution_count": 71,
   "id": "831b50cd-ded6-4b38-ba47-7de798855318",
   "metadata": {},
   "outputs": [],
   "source": [
    "#extraemos los valores de dict_IPFV\n",
    "valores_IPFV = set(dict_IPFV.values())"
   ]
  },
  {
   "cell_type": "code",
   "execution_count": 72,
   "id": "05a0905c-3b8e-48c8-a7ef-6f7c48fcf272",
   "metadata": {},
   "outputs": [
    {
     "data": {
      "text/plain": [
       "{'?', 'AFF', 'CLI', 'N', 'PAR', 'REP', 'STEM'}"
      ]
     },
     "execution_count": 72,
     "metadata": {},
     "output_type": "execute_result"
    }
   ],
   "source": [
    "#visualizamos los valores\n",
    "valores_IPFV "
   ]
  },
  {
   "cell_type": "code",
   "execution_count": 73,
   "id": "b7748b7e-176a-4cdb-90ff-b48771e72c1d",
   "metadata": {},
   "outputs": [],
   "source": [
    "#creamos una lista llamada no_marcación_IPFV que contendrá los keys (es decir, las lenguas) que tengan un value igual a \"N\"\n",
    "## empleamos un ciclo for que recorra los keys de dict_IPFV y guarde en la lista aquellos con valor igual a \"N\n",
    "no_marcacion_IPFV = []\n",
    "\n",
    "for key in dict_IPFV.keys():\n",
    "    if dict_IPFV[key] == 'N':\n",
    "        no_marcacion_IPFV = no_marcacion_IPFV + [key]"
   ]
  },
  {
   "cell_type": "code",
   "execution_count": 74,
   "id": "e2ca8354-801f-4626-81bf-0b12864e1c16",
   "metadata": {},
   "outputs": [
    {
     "data": {
      "text/plain": [
       "['Apurinã', 'Arhuaco', 'Baure', 'Bora', 'Bororo']"
      ]
     },
     "execution_count": 74,
     "metadata": {},
     "output_type": "execute_result"
    }
   ],
   "source": [
    "#visualizamos la lista definida anteriormente\n",
    "no_marcacion_IPFV[:5]"
   ]
  },
  {
   "cell_type": "code",
   "execution_count": 75,
   "id": "c292a0ec-fada-448e-9369-94999ab53bbf",
   "metadata": {},
   "outputs": [
    {
     "data": {
      "text/plain": [
       "38"
      ]
     },
     "execution_count": 75,
     "metadata": {},
     "output_type": "execute_result"
    }
   ],
   "source": [
    "#imprimimos el total de elementos de no_marcacion_iPFV para saber el número de lenguas sin marcas morfosintácticas para aspecto imperfectivo.\n",
    "len(no_marcacion_IPFV)"
   ]
  },
  {
   "cell_type": "code",
   "execution_count": 76,
   "id": "12bbf8ff-1334-429a-ac50-25ef491c4c9f",
   "metadata": {},
   "outputs": [],
   "source": [
    "#ahora definimos una nueva lista que contenga las lenguas con marcación morfológica de aspecto imperfectivo llamada marcacion_IPFV.\n",
    "##con un ciclo for buscamos los keys en dict_IPFV que no estén en la lista no_marcacion_IPFV y los guarde en la nueva lista.\n",
    "###el resultado serán las lenguas que tienen marcas morfológicas para aspecto perfectivo.\n",
    "\n",
    "marcacion_IPFV = []\n",
    "\n",
    "for key in dict_IPFV:\n",
    "    if key not in no_marcacion_IPFV:\n",
    "        marcacion_IPFV = marcacion_IPFV + [key]"
   ]
  },
  {
   "cell_type": "code",
   "execution_count": 77,
   "id": "5d424e72-641c-4d17-b187-3b653c53db1a",
   "metadata": {},
   "outputs": [
    {
     "data": {
      "text/plain": [
       "['Aguaruna', 'Awa-Cuaiquer', 'Cavineña', 'Chimila', 'Cusco Quechua']"
      ]
     },
     "execution_count": 77,
     "metadata": {},
     "output_type": "execute_result"
    }
   ],
   "source": [
    "##visualizamos la lista definida anteriormente\n",
    "marcacion_IPFV[:5]"
   ]
  },
  {
   "cell_type": "code",
   "execution_count": 78,
   "id": "ad917519-3fe0-41f5-a614-8a0c7cb7fff4",
   "metadata": {},
   "outputs": [
    {
     "data": {
      "text/plain": [
       "25"
      ]
     },
     "execution_count": 78,
     "metadata": {},
     "output_type": "execute_result"
    }
   ],
   "source": [
    "#imprimimos el total de elementos de marcacion_IPFV para saber el número de lenguas con marcas morfosintáctica para aspecto imperfectivo.\n",
    "len(marcacion_IPFV)"
   ]
  },
  {
   "cell_type": "code",
   "execution_count": 139,
   "id": "f210d630-502d-40ed-9b8f-f69d9097bfc3",
   "metadata": {},
   "outputs": [],
   "source": [
    "#definimos un diccionario para crear una tabla al que llamaremos tabla_aspecto\n",
    "#creamos keys que serán el encabezado de cada columna con los nombres: 'rasgo', 'aspecto perfecto' y 'aspecto imperfecto'\n",
    "#asignamos values para cada key. \n",
    "#Para rasgo: marcado/no marcado. \n",
    "#Para cada rasgo lingüístico de tiempo imprimimos el largo de las listas marcacion_x y no_marcacion_x. \n",
    "tabla_aspecto = {'Rasgo': ['Marcado', 'No marcado'], 'Aspecto Perfectivo': [(len(marcacion_PFV)), (len(no_marcacion_PFV))], 'Aspecto Imperfectivo': [(len(marcacion_IPFV)), (len(no_marcacion_IPFV))]}"
   ]
  },
  {
   "cell_type": "code",
   "execution_count": 141,
   "id": "664e1163-4174-4c39-994e-9f039df04bc7",
   "metadata": {},
   "outputs": [
    {
     "name": "stdout",
     "output_type": "stream",
     "text": [
      "Rasgo         Aspecto Perfectivo    Aspecto Imperfectivo\n",
      "----------  --------------------  ----------------------\n",
      "Marcado                       25                      25\n",
      "No marcado                    39                      38\n"
     ]
    }
   ],
   "source": [
    "#imprimos la tabla creada\n",
    "print(tabulate(tabla_aspecto, headers='keys'))"
   ]
  },
  {
   "cell_type": "code",
   "execution_count": 143,
   "id": "58c1804a-179a-49fa-b01a-0c892fad954f",
   "metadata": {},
   "outputs": [
    {
     "name": "stdout",
     "output_type": "stream",
     "text": [
      "╒════════════╤══════════════════════╤════════════════════════╕\n",
      "│ Rasgo      │   Aspecto Perfectivo │   Aspecto Imperfectivo │\n",
      "╞════════════╪══════════════════════╪════════════════════════╡\n",
      "│ Marcado    │                   25 │                     25 │\n",
      "├────────────┼──────────────────────┼────────────────────────┤\n",
      "│ No marcado │                   39 │                     38 │\n",
      "╘════════════╧══════════════════════╧════════════════════════╛\n"
     ]
    }
   ],
   "source": [
    "#asignamos la función 'fancy_grid' para que nuestra tabla tenga bordes internos y externos\n",
    "print(tabulate(tabla_aspecto, headers='keys', tablefmt='fancy_grid'))"
   ]
  },
  {
   "cell_type": "markdown",
   "id": "91b0562d-4b89-40f5-a275-c5125879ac49",
   "metadata": {},
   "source": [
    "# 3. MODO"
   ]
  },
  {
   "cell_type": "code",
   "execution_count": 79,
   "id": "23f8f055-423e-4b85-ae79-d833da4fadc0",
   "metadata": {},
   "outputs": [],
   "source": [
    "#definimos una lista llamada modo_realis que contendrá la lectura del archivo con los datos de realis_mood\n",
    "modo_realis = pd.read_csv('realis_mood.csv',sep=',',encoding='iso-8859-1')"
   ]
  },
  {
   "cell_type": "code",
   "execution_count": 80,
   "id": "da980bf1-d3ec-417f-a2c3-0dc30edfbd86",
   "metadata": {},
   "outputs": [
    {
     "data": {
      "text/html": [
       "<div>\n",
       "<style scoped>\n",
       "    .dataframe tbody tr th:only-of-type {\n",
       "        vertical-align: middle;\n",
       "    }\n",
       "\n",
       "    .dataframe tbody tr th {\n",
       "        vertical-align: top;\n",
       "    }\n",
       "\n",
       "    .dataframe thead th {\n",
       "        text-align: right;\n",
       "    }\n",
       "</style>\n",
       "<table border=\"1\" class=\"dataframe\">\n",
       "  <thead>\n",
       "    <tr style=\"text-align: right;\">\n",
       "      <th></th>\n",
       "      <th>iso-639-3</th>\n",
       "      <th>name</th>\n",
       "      <th>value</th>\n",
       "      <th>description</th>\n",
       "      <th>latitude</th>\n",
       "      <th>longitude</th>\n",
       "      <th>family</th>\n",
       "    </tr>\n",
       "  </thead>\n",
       "  <tbody>\n",
       "    <tr>\n",
       "      <th>0</th>\n",
       "      <td>agr</td>\n",
       "      <td>Aguaruna</td>\n",
       "      <td>N</td>\n",
       "      <td>no</td>\n",
       "      <td>-5.300440</td>\n",
       "      <td>-77.921790</td>\n",
       "      <td>Chicham</td>\n",
       "    </tr>\n",
       "    <tr>\n",
       "      <th>1</th>\n",
       "      <td>apu</td>\n",
       "      <td>Apurinã</td>\n",
       "      <td>N</td>\n",
       "      <td>no</td>\n",
       "      <td>-8.216920</td>\n",
       "      <td>-66.771410</td>\n",
       "      <td>Arawakan</td>\n",
       "    </tr>\n",
       "    <tr>\n",
       "      <th>2</th>\n",
       "      <td>arh</td>\n",
       "      <td>Arhuaco</td>\n",
       "      <td>N</td>\n",
       "      <td>no</td>\n",
       "      <td>10.701840</td>\n",
       "      <td>-73.636290</td>\n",
       "      <td>Chibchan</td>\n",
       "    </tr>\n",
       "    <tr>\n",
       "      <th>3</th>\n",
       "      <td>kwi</td>\n",
       "      <td>Awa-Cuaiquer</td>\n",
       "      <td>N</td>\n",
       "      <td>no</td>\n",
       "      <td>1.216525</td>\n",
       "      <td>-78.340135</td>\n",
       "      <td>Barbacoan</td>\n",
       "    </tr>\n",
       "    <tr>\n",
       "      <th>4</th>\n",
       "      <td>brg</td>\n",
       "      <td>Baure</td>\n",
       "      <td>N</td>\n",
       "      <td>no</td>\n",
       "      <td>-13.127750</td>\n",
       "      <td>-64.183810</td>\n",
       "      <td>Arawakan</td>\n",
       "    </tr>\n",
       "  </tbody>\n",
       "</table>\n",
       "</div>"
      ],
      "text/plain": [
       "  iso-639-3          name value description   latitude  longitude     family\n",
       "0       agr      Aguaruna     N          no  -5.300440 -77.921790    Chicham\n",
       "1       apu       Apurinã     N          no  -8.216920 -66.771410   Arawakan\n",
       "2       arh       Arhuaco     N          no  10.701840 -73.636290   Chibchan\n",
       "3       kwi  Awa-Cuaiquer     N          no   1.216525 -78.340135  Barbacoan\n",
       "4       brg         Baure     N          no -13.127750 -64.183810   Arawakan"
      ]
     },
     "execution_count": 80,
     "metadata": {},
     "output_type": "execute_result"
    }
   ],
   "source": [
    "#visualizamos la lista definida anteriormente\n",
    "modo_realis[:5]"
   ]
  },
  {
   "cell_type": "code",
   "execution_count": 81,
   "id": "f58d0f7b-1cf0-4922-9cce-43e0843d98cc",
   "metadata": {},
   "outputs": [
    {
     "data": {
      "text/html": [
       "<div>\n",
       "<style scoped>\n",
       "    .dataframe tbody tr th:only-of-type {\n",
       "        vertical-align: middle;\n",
       "    }\n",
       "\n",
       "    .dataframe tbody tr th {\n",
       "        vertical-align: top;\n",
       "    }\n",
       "\n",
       "    .dataframe thead th {\n",
       "        text-align: right;\n",
       "    }\n",
       "</style>\n",
       "<table border=\"1\" class=\"dataframe\">\n",
       "  <thead>\n",
       "    <tr style=\"text-align: right;\">\n",
       "      <th></th>\n",
       "      <th>name</th>\n",
       "      <th>value</th>\n",
       "    </tr>\n",
       "  </thead>\n",
       "  <tbody>\n",
       "    <tr>\n",
       "      <th>0</th>\n",
       "      <td>Aguaruna</td>\n",
       "      <td>N</td>\n",
       "    </tr>\n",
       "    <tr>\n",
       "      <th>1</th>\n",
       "      <td>Apurinã</td>\n",
       "      <td>N</td>\n",
       "    </tr>\n",
       "    <tr>\n",
       "      <th>2</th>\n",
       "      <td>Arhuaco</td>\n",
       "      <td>N</td>\n",
       "    </tr>\n",
       "    <tr>\n",
       "      <th>3</th>\n",
       "      <td>Awa-Cuaiquer</td>\n",
       "      <td>N</td>\n",
       "    </tr>\n",
       "    <tr>\n",
       "      <th>4</th>\n",
       "      <td>Baure</td>\n",
       "      <td>N</td>\n",
       "    </tr>\n",
       "  </tbody>\n",
       "</table>\n",
       "</div>"
      ],
      "text/plain": [
       "           name value\n",
       "0      Aguaruna     N\n",
       "1       Apurinã     N\n",
       "2       Arhuaco     N\n",
       "3  Awa-Cuaiquer     N\n",
       "4         Baure     N"
      ]
     },
     "execution_count": 81,
     "metadata": {},
     "output_type": "execute_result"
    }
   ],
   "source": [
    "#visualizamos únicamente dos columnas de imperfective_aspect (name y value)\n",
    "modo_realis[['name','value']][:5]"
   ]
  },
  {
   "cell_type": "code",
   "execution_count": 82,
   "id": "a2129210-bcac-4db4-aa72-8bfece78deaf",
   "metadata": {},
   "outputs": [],
   "source": [
    "#definimos una nueva lista llamada value_name_REAL que contendrá solo las columnas 'name' y 'value'\n",
    "value_name_REAL = modo_realis[['name','value']]"
   ]
  },
  {
   "cell_type": "code",
   "execution_count": 83,
   "id": "c4cc3666-49b5-4d30-b9f4-c81fc2f8d2ae",
   "metadata": {},
   "outputs": [
    {
     "data": {
      "text/html": [
       "<div>\n",
       "<style scoped>\n",
       "    .dataframe tbody tr th:only-of-type {\n",
       "        vertical-align: middle;\n",
       "    }\n",
       "\n",
       "    .dataframe tbody tr th {\n",
       "        vertical-align: top;\n",
       "    }\n",
       "\n",
       "    .dataframe thead th {\n",
       "        text-align: right;\n",
       "    }\n",
       "</style>\n",
       "<table border=\"1\" class=\"dataframe\">\n",
       "  <thead>\n",
       "    <tr style=\"text-align: right;\">\n",
       "      <th></th>\n",
       "      <th>name</th>\n",
       "      <th>value</th>\n",
       "    </tr>\n",
       "  </thead>\n",
       "  <tbody>\n",
       "    <tr>\n",
       "      <th>0</th>\n",
       "      <td>Aguaruna</td>\n",
       "      <td>N</td>\n",
       "    </tr>\n",
       "    <tr>\n",
       "      <th>1</th>\n",
       "      <td>Apurinã</td>\n",
       "      <td>N</td>\n",
       "    </tr>\n",
       "    <tr>\n",
       "      <th>2</th>\n",
       "      <td>Arhuaco</td>\n",
       "      <td>N</td>\n",
       "    </tr>\n",
       "    <tr>\n",
       "      <th>3</th>\n",
       "      <td>Awa-Cuaiquer</td>\n",
       "      <td>N</td>\n",
       "    </tr>\n",
       "    <tr>\n",
       "      <th>4</th>\n",
       "      <td>Baure</td>\n",
       "      <td>N</td>\n",
       "    </tr>\n",
       "  </tbody>\n",
       "</table>\n",
       "</div>"
      ],
      "text/plain": [
       "           name value\n",
       "0      Aguaruna     N\n",
       "1       Apurinã     N\n",
       "2       Arhuaco     N\n",
       "3  Awa-Cuaiquer     N\n",
       "4         Baure     N"
      ]
     },
     "execution_count": 83,
     "metadata": {},
     "output_type": "execute_result"
    }
   ],
   "source": [
    "value_name_REAL[:5]\n"
   ]
  },
  {
   "cell_type": "code",
   "execution_count": 84,
   "id": "83ec2dcb-e86e-4e1c-bb7e-0a351000f2f3",
   "metadata": {},
   "outputs": [],
   "source": [
    "#creamos un diccionario con las columnas 'name' y 'value'. Name=keys y value=values.\n",
    "dict_REAL = dict(zip(value_name_REAL['name'], value_name_REAL['value']))"
   ]
  },
  {
   "cell_type": "code",
   "execution_count": 85,
   "id": "a6d77b85-73c8-4ebc-90c7-3cb29e6f9549",
   "metadata": {},
   "outputs": [
    {
     "data": {
      "text/plain": [
       "{'Aguaruna': 'N',\n",
       " 'Apurinã': 'N',\n",
       " 'Arhuaco': 'N',\n",
       " 'Awa-Cuaiquer': 'N',\n",
       " 'Baure': 'N',\n",
       " 'Bora': 'N',\n",
       " 'Bororo': 'N',\n",
       " 'Canela': 'N',\n",
       " 'Cavineña': 'N',\n",
       " 'Central Aymara': 'N',\n",
       " 'Chimila': 'N',\n",
       " 'Cocama-Cocamilla': 'N',\n",
       " 'Cubeo': 'N',\n",
       " 'Cusco Quechua': '?',\n",
       " 'Desano': 'N',\n",
       " 'Dâw': 'N',\n",
       " 'Emerillon': 'N',\n",
       " 'Hixkaryána': 'N',\n",
       " 'Huallaga Huánaco Quechua': 'N',\n",
       " 'Hupdë': 'N',\n",
       " 'Imbabura Highland Quichua': 'N',\n",
       " 'Itonama': 'N',\n",
       " 'Jamamadí': 'N',\n",
       " 'Kaingang': 'N',\n",
       " 'Kamayurá': 'N',\n",
       " 'Kanoê': 'N',\n",
       " 'Karitiâna': 'N',\n",
       " 'Karo (Brazil)': 'N',\n",
       " 'Kwaza': 'N',\n",
       " 'Leco': 'N',\n",
       " 'Mamaindé': 'N',\n",
       " 'Mapudungun': 'N',\n",
       " 'Matsés': 'N',\n",
       " 'Mocoví': 'N',\n",
       " 'Mosetén': 'N',\n",
       " 'Movima': 'N',\n",
       " 'Muniche': '?',\n",
       " 'Nhengatu': 'N',\n",
       " 'Ninam': 'N',\n",
       " 'Northern Emberá': 'N',\n",
       " 'Panare': '?',\n",
       " 'Parecís': 'N',\n",
       " 'Pilagá': 'N',\n",
       " 'Puinave': 'N',\n",
       " 'Páez': 'N',\n",
       " 'Rikbaktsa': '?',\n",
       " 'Sabanê': 'N',\n",
       " 'Sakirabia': 'N',\n",
       " 'Sateré-Mawé': 'N',\n",
       " 'Shipibo-Conibo': 'N',\n",
       " 'Shuar': '?',\n",
       " 'Tapieté': 'N',\n",
       " 'Tariana': 'N',\n",
       " 'Tehuelche': 'AFF',\n",
       " 'Trió': 'N',\n",
       " 'Trumai': 'N',\n",
       " 'Tsafiki': 'N',\n",
       " 'Urarina': 'N',\n",
       " 'Warao': 'N',\n",
       " 'Wari': 'CLI',\n",
       " 'Wichí Lhamtés Nocten': 'CLI',\n",
       " 'Yaminahua': 'N',\n",
       " \"Yanesha'\": 'N',\n",
       " 'Yuracaré': 'N'}"
      ]
     },
     "execution_count": 85,
     "metadata": {},
     "output_type": "execute_result"
    }
   ],
   "source": [
    "dict_REAL"
   ]
  },
  {
   "cell_type": "code",
   "execution_count": 86,
   "id": "ece6ac6b-af41-4d13-9138-7956de04ebf4",
   "metadata": {},
   "outputs": [],
   "source": [
    "#extraemos los valores de dict_REAL\n",
    "valores_REAL = set(dict_REAL.values())"
   ]
  },
  {
   "cell_type": "code",
   "execution_count": 87,
   "id": "d7ef27ba-876a-4b02-b497-d2a98ceb9e52",
   "metadata": {},
   "outputs": [
    {
     "data": {
      "text/plain": [
       "{'?', 'AFF', 'CLI', 'N'}"
      ]
     },
     "execution_count": 87,
     "metadata": {},
     "output_type": "execute_result"
    }
   ],
   "source": [
    "#visualizamos los valores\n",
    "valores_REAL"
   ]
  },
  {
   "cell_type": "code",
   "execution_count": 88,
   "id": "f9997bfa-8d85-4dc2-9521-7588f1a687a0",
   "metadata": {},
   "outputs": [],
   "source": [
    "#creamos una lista llamada no_marcación_REAL que contendrá los keys (es decir, las lenguas) que tengan un value igual a \"N\"\n",
    "## empleamos un ciclo for que recorra los keys de dict_REAL y guarde en la lista aquellos con valor igual a \"N\n",
    "no_marcacion_REAL = []\n",
    "\n",
    "for key in dict_REAL.keys():\n",
    "    if dict_REAL[key] == 'N':\n",
    "        no_marcacion_REAL = no_marcacion_REAL + [key]"
   ]
  },
  {
   "cell_type": "code",
   "execution_count": 89,
   "id": "213dc958-c086-4d41-971b-db13ed3abd48",
   "metadata": {},
   "outputs": [
    {
     "data": {
      "text/plain": [
       "['Aguaruna', 'Apurinã', 'Arhuaco', 'Awa-Cuaiquer', 'Baure']"
      ]
     },
     "execution_count": 89,
     "metadata": {},
     "output_type": "execute_result"
    }
   ],
   "source": [
    "##visualizamos la lista definida anteriormente\n",
    "no_marcacion_REAL[:5]"
   ]
  },
  {
   "cell_type": "code",
   "execution_count": 90,
   "id": "b75bfb8e-e095-4f17-ac14-a6a57667e3cc",
   "metadata": {},
   "outputs": [
    {
     "data": {
      "text/plain": [
       "56"
      ]
     },
     "execution_count": 90,
     "metadata": {},
     "output_type": "execute_result"
    }
   ],
   "source": [
    "#imprimimos el total de elementos de no_marcacion_REAL para saber el número de lenguas sin marcas morfosintácticas para modo realis.\n",
    "len(no_marcacion_REAL)"
   ]
  },
  {
   "cell_type": "code",
   "execution_count": 91,
   "id": "13260332-3567-486a-8607-edd18eaa545b",
   "metadata": {},
   "outputs": [],
   "source": [
    "#ahora definimos una nueva lista que contenga las lenguas con marcación morfológica de modo realis llamada marcacion_REAL.\n",
    "##con un ciclo for buscamos los keys en dict_REAL que no estén en la lista no_marcacion_REAL y los guarde en la nueva lista.\n",
    "###el resultado serán las lenguas que tienen marcas morfológicas para modo realis.\n",
    "marcacion_REAL = []\n",
    "\n",
    "for key in dict_REAL:\n",
    "    if key not in no_marcacion_REAL:\n",
    "        marcacion_REAL = marcacion_REAL + [key]"
   ]
  },
  {
   "cell_type": "code",
   "execution_count": 92,
   "id": "fd999f69-cd97-41f5-bbbb-ded9f5e766bb",
   "metadata": {},
   "outputs": [
    {
     "data": {
      "text/plain": [
       "['Cusco Quechua', 'Muniche', 'Panare', 'Rikbaktsa', 'Shuar']"
      ]
     },
     "execution_count": 92,
     "metadata": {},
     "output_type": "execute_result"
    }
   ],
   "source": [
    "##visualizamos la lista definida anteriormente\n",
    "marcacion_REAL[:5]"
   ]
  },
  {
   "cell_type": "code",
   "execution_count": 93,
   "id": "7806f6dc-f910-4584-911f-aa6efa39a87d",
   "metadata": {},
   "outputs": [
    {
     "data": {
      "text/plain": [
       "8"
      ]
     },
     "execution_count": 93,
     "metadata": {},
     "output_type": "execute_result"
    }
   ],
   "source": [
    "#imprimimos el total de elementos de marcacion_REAL para saber el número de lenguas con marcas morfosintáctica para modo realis.\n",
    "len(marcacion_REAL)"
   ]
  },
  {
   "cell_type": "markdown",
   "id": "450234d0-786b-418f-ad76-880809d1bfa9",
   "metadata": {},
   "source": [
    "# 3.2 MODO IRREALIS"
   ]
  },
  {
   "cell_type": "code",
   "execution_count": 94,
   "id": "0cb3b151-100b-40b8-bb7f-6928a73fc31c",
   "metadata": {},
   "outputs": [],
   "source": [
    "#definimos una lista llamada modo_irrealis que contendrá la lectura del archivo con los datos de irrealis_mood\n",
    "modo_irrealis = pd.read_csv('irrealis_mood.csv',sep=',',encoding='iso-8859-1')"
   ]
  },
  {
   "cell_type": "code",
   "execution_count": 95,
   "id": "eceb01e3-bdb9-424d-9174-a05e84b9906e",
   "metadata": {},
   "outputs": [
    {
     "data": {
      "text/html": [
       "<div>\n",
       "<style scoped>\n",
       "    .dataframe tbody tr th:only-of-type {\n",
       "        vertical-align: middle;\n",
       "    }\n",
       "\n",
       "    .dataframe tbody tr th {\n",
       "        vertical-align: top;\n",
       "    }\n",
       "\n",
       "    .dataframe thead th {\n",
       "        text-align: right;\n",
       "    }\n",
       "</style>\n",
       "<table border=\"1\" class=\"dataframe\">\n",
       "  <thead>\n",
       "    <tr style=\"text-align: right;\">\n",
       "      <th></th>\n",
       "      <th>iso-639-3</th>\n",
       "      <th>name</th>\n",
       "      <th>value</th>\n",
       "      <th>description</th>\n",
       "      <th>latitude</th>\n",
       "      <th>longitude</th>\n",
       "      <th>family</th>\n",
       "    </tr>\n",
       "  </thead>\n",
       "  <tbody>\n",
       "    <tr>\n",
       "      <th>0</th>\n",
       "      <td>agr</td>\n",
       "      <td>Aguaruna</td>\n",
       "      <td>N</td>\n",
       "      <td>no</td>\n",
       "      <td>-5.300440</td>\n",
       "      <td>-77.921790</td>\n",
       "      <td>Chicham</td>\n",
       "    </tr>\n",
       "    <tr>\n",
       "      <th>1</th>\n",
       "      <td>apu</td>\n",
       "      <td>Apurinã</td>\n",
       "      <td>AFF</td>\n",
       "      <td>affix</td>\n",
       "      <td>-8.216920</td>\n",
       "      <td>-66.771410</td>\n",
       "      <td>Arawakan</td>\n",
       "    </tr>\n",
       "    <tr>\n",
       "      <th>2</th>\n",
       "      <td>arh</td>\n",
       "      <td>Arhuaco</td>\n",
       "      <td>N</td>\n",
       "      <td>no</td>\n",
       "      <td>10.701840</td>\n",
       "      <td>-73.636290</td>\n",
       "      <td>Chibchan</td>\n",
       "    </tr>\n",
       "    <tr>\n",
       "      <th>3</th>\n",
       "      <td>kwi</td>\n",
       "      <td>Awa-Cuaiquer</td>\n",
       "      <td>PAR</td>\n",
       "      <td>particle</td>\n",
       "      <td>1.216525</td>\n",
       "      <td>-78.340135</td>\n",
       "      <td>Barbacoan</td>\n",
       "    </tr>\n",
       "    <tr>\n",
       "      <th>4</th>\n",
       "      <td>brg</td>\n",
       "      <td>Baure</td>\n",
       "      <td>AFF</td>\n",
       "      <td>affix</td>\n",
       "      <td>-13.127750</td>\n",
       "      <td>-64.183810</td>\n",
       "      <td>Arawakan</td>\n",
       "    </tr>\n",
       "  </tbody>\n",
       "</table>\n",
       "</div>"
      ],
      "text/plain": [
       "  iso-639-3          name value description   latitude  longitude     family\n",
       "0       agr      Aguaruna     N          no  -5.300440 -77.921790    Chicham\n",
       "1       apu       Apurinã   AFF       affix  -8.216920 -66.771410   Arawakan\n",
       "2       arh       Arhuaco     N          no  10.701840 -73.636290   Chibchan\n",
       "3       kwi  Awa-Cuaiquer   PAR    particle   1.216525 -78.340135  Barbacoan\n",
       "4       brg         Baure   AFF       affix -13.127750 -64.183810   Arawakan"
      ]
     },
     "execution_count": 95,
     "metadata": {},
     "output_type": "execute_result"
    }
   ],
   "source": [
    "#visualizamos la lista definida anteriormente\n",
    "modo_irrealis[:5]"
   ]
  },
  {
   "cell_type": "code",
   "execution_count": 96,
   "id": "27671833-4975-47ec-80a0-3b84f6aa7819",
   "metadata": {},
   "outputs": [
    {
     "data": {
      "text/html": [
       "<div>\n",
       "<style scoped>\n",
       "    .dataframe tbody tr th:only-of-type {\n",
       "        vertical-align: middle;\n",
       "    }\n",
       "\n",
       "    .dataframe tbody tr th {\n",
       "        vertical-align: top;\n",
       "    }\n",
       "\n",
       "    .dataframe thead th {\n",
       "        text-align: right;\n",
       "    }\n",
       "</style>\n",
       "<table border=\"1\" class=\"dataframe\">\n",
       "  <thead>\n",
       "    <tr style=\"text-align: right;\">\n",
       "      <th></th>\n",
       "      <th>name</th>\n",
       "      <th>value</th>\n",
       "    </tr>\n",
       "  </thead>\n",
       "  <tbody>\n",
       "    <tr>\n",
       "      <th>0</th>\n",
       "      <td>Aguaruna</td>\n",
       "      <td>N</td>\n",
       "    </tr>\n",
       "    <tr>\n",
       "      <th>1</th>\n",
       "      <td>Apurinã</td>\n",
       "      <td>AFF</td>\n",
       "    </tr>\n",
       "    <tr>\n",
       "      <th>2</th>\n",
       "      <td>Arhuaco</td>\n",
       "      <td>N</td>\n",
       "    </tr>\n",
       "    <tr>\n",
       "      <th>3</th>\n",
       "      <td>Awa-Cuaiquer</td>\n",
       "      <td>PAR</td>\n",
       "    </tr>\n",
       "    <tr>\n",
       "      <th>4</th>\n",
       "      <td>Baure</td>\n",
       "      <td>AFF</td>\n",
       "    </tr>\n",
       "  </tbody>\n",
       "</table>\n",
       "</div>"
      ],
      "text/plain": [
       "           name value\n",
       "0      Aguaruna     N\n",
       "1       Apurinã   AFF\n",
       "2       Arhuaco     N\n",
       "3  Awa-Cuaiquer   PAR\n",
       "4         Baure   AFF"
      ]
     },
     "execution_count": 96,
     "metadata": {},
     "output_type": "execute_result"
    }
   ],
   "source": [
    "#visualizamos únicamente dos columnas de irrealis_mood (name y value)\n",
    "modo_irrealis[['name','value']][:5]"
   ]
  },
  {
   "cell_type": "code",
   "execution_count": 97,
   "id": "6d1baf5a-6697-40a1-a563-82c99c236228",
   "metadata": {},
   "outputs": [],
   "source": [
    "#definimos una nueva lista llamada value_name_IRR que contendrá solo las columnas 'name' y 'value'\n",
    "value_name_IRR = modo_irrealis[['name','value']]"
   ]
  },
  {
   "cell_type": "code",
   "execution_count": 98,
   "id": "8d5a7133-0cc4-447a-b289-13f30b0e8225",
   "metadata": {},
   "outputs": [
    {
     "data": {
      "text/html": [
       "<div>\n",
       "<style scoped>\n",
       "    .dataframe tbody tr th:only-of-type {\n",
       "        vertical-align: middle;\n",
       "    }\n",
       "\n",
       "    .dataframe tbody tr th {\n",
       "        vertical-align: top;\n",
       "    }\n",
       "\n",
       "    .dataframe thead th {\n",
       "        text-align: right;\n",
       "    }\n",
       "</style>\n",
       "<table border=\"1\" class=\"dataframe\">\n",
       "  <thead>\n",
       "    <tr style=\"text-align: right;\">\n",
       "      <th></th>\n",
       "      <th>name</th>\n",
       "      <th>value</th>\n",
       "    </tr>\n",
       "  </thead>\n",
       "  <tbody>\n",
       "    <tr>\n",
       "      <th>0</th>\n",
       "      <td>Aguaruna</td>\n",
       "      <td>N</td>\n",
       "    </tr>\n",
       "    <tr>\n",
       "      <th>1</th>\n",
       "      <td>Apurinã</td>\n",
       "      <td>AFF</td>\n",
       "    </tr>\n",
       "    <tr>\n",
       "      <th>2</th>\n",
       "      <td>Arhuaco</td>\n",
       "      <td>N</td>\n",
       "    </tr>\n",
       "    <tr>\n",
       "      <th>3</th>\n",
       "      <td>Awa-Cuaiquer</td>\n",
       "      <td>PAR</td>\n",
       "    </tr>\n",
       "    <tr>\n",
       "      <th>4</th>\n",
       "      <td>Baure</td>\n",
       "      <td>AFF</td>\n",
       "    </tr>\n",
       "  </tbody>\n",
       "</table>\n",
       "</div>"
      ],
      "text/plain": [
       "           name value\n",
       "0      Aguaruna     N\n",
       "1       Apurinã   AFF\n",
       "2       Arhuaco     N\n",
       "3  Awa-Cuaiquer   PAR\n",
       "4         Baure   AFF"
      ]
     },
     "execution_count": 98,
     "metadata": {},
     "output_type": "execute_result"
    }
   ],
   "source": [
    "value_name_IRR[:5]"
   ]
  },
  {
   "cell_type": "code",
   "execution_count": 99,
   "id": "75e22661-57fb-45a7-94fd-6a04c3fafe9f",
   "metadata": {},
   "outputs": [],
   "source": [
    "#creamos un diccionario con las columnas 'name' y 'value'. Name=keys y value=values.\n",
    "dict_IRR = dict(zip(value_name_IRR['name'], value_name_IRR['value']))"
   ]
  },
  {
   "cell_type": "code",
   "execution_count": 100,
   "id": "a2c05bd4-cacc-4106-92fe-2a22e1e1d55b",
   "metadata": {},
   "outputs": [
    {
     "data": {
      "text/plain": [
       "{'Aguaruna': 'N',\n",
       " 'Apurinã': 'AFF',\n",
       " 'Arhuaco': 'N',\n",
       " 'Awa-Cuaiquer': 'PAR',\n",
       " 'Baure': 'AFF',\n",
       " 'Bora': 'N',\n",
       " 'Bororo': 'AFF',\n",
       " 'Canela': 'PAR',\n",
       " 'Cavineña': 'N',\n",
       " 'Central Aymara': 'N',\n",
       " 'Chimila': 'N',\n",
       " 'Cocama-Cocamilla': 'N',\n",
       " 'Cubeo': 'AFF',\n",
       " 'Cusco Quechua': 'AFF',\n",
       " 'Desano': 'N',\n",
       " 'Dâw': 'N',\n",
       " 'Emerillon': 'PAR',\n",
       " 'Hixkaryána': 'N',\n",
       " 'Huallaga Huánaco Quechua': 'AFF',\n",
       " 'Hupdë': 'N',\n",
       " 'Imbabura Highland Quichua': 'AFF',\n",
       " 'Itonama': 'N',\n",
       " 'Jamamadí': 'AFF',\n",
       " 'Kaingang': 'N',\n",
       " 'Kamayurá': 'PAR',\n",
       " 'Kanoê': 'N',\n",
       " 'Karitiâna': 'AFF',\n",
       " 'Karo (Brazil)': 'N',\n",
       " 'Kwaza': 'AFF',\n",
       " 'Leco': 'N',\n",
       " 'Mamaindé': 'AFF',\n",
       " 'Mapudungun': 'AFF',\n",
       " 'Matsés': 'N',\n",
       " 'Mocoví': 'N',\n",
       " 'Mosetén': 'AFF',\n",
       " 'Movima': 'N',\n",
       " 'Muniche': 'N',\n",
       " 'Nhengatu': 'N',\n",
       " 'Ninam': 'N',\n",
       " 'Northern Emberá': 'N',\n",
       " 'Panare': 'AFF',\n",
       " 'Parecís': 'CLI',\n",
       " 'Pilagá': 'N',\n",
       " 'Puinave': 'N',\n",
       " 'Páez': 'N',\n",
       " 'Rikbaktsa': '?',\n",
       " 'Sabanê': 'N',\n",
       " 'Sakirabia': 'PAR',\n",
       " 'Sateré-Mawé': 'N',\n",
       " 'Shipibo-Conibo': 'N',\n",
       " 'Shuar': '?',\n",
       " 'Tapieté': 'N',\n",
       " 'Tariana': 'N',\n",
       " 'Tehuelche': 'AFF',\n",
       " 'Trió': 'PAR',\n",
       " 'Trumai': 'N',\n",
       " 'Tsafiki': 'AFF',\n",
       " 'Urarina': 'AFF',\n",
       " 'Warao': 'AFF',\n",
       " 'Wari': 'CLI',\n",
       " 'Wichí Lhamtés Nocten': 'CLI',\n",
       " 'Yaminahua': 'N',\n",
       " \"Yanesha'\": 'N',\n",
       " 'Yuracaré': 'CLI'}"
      ]
     },
     "execution_count": 100,
     "metadata": {},
     "output_type": "execute_result"
    }
   ],
   "source": [
    "dict_IRR"
   ]
  },
  {
   "cell_type": "code",
   "execution_count": 101,
   "id": "45b6b731-55e6-4bc0-90e0-72506beb279e",
   "metadata": {},
   "outputs": [],
   "source": [
    "#extraemos los valores de dict_IRR\n",
    "valores_IRR = set(dict_IRR.values())"
   ]
  },
  {
   "cell_type": "code",
   "execution_count": 102,
   "id": "1dcb1914-a61e-4287-8179-f76d8af72f83",
   "metadata": {},
   "outputs": [
    {
     "data": {
      "text/plain": [
       "{'?', 'AFF', 'CLI', 'N', 'PAR'}"
      ]
     },
     "execution_count": 102,
     "metadata": {},
     "output_type": "execute_result"
    }
   ],
   "source": [
    "#visualizamos los valores\n",
    "valores_IRR"
   ]
  },
  {
   "cell_type": "code",
   "execution_count": 103,
   "id": "591a9a29-b759-41fa-a760-5779886d787c",
   "metadata": {},
   "outputs": [],
   "source": [
    "#creamos una lista llamada no_marcación_IRR que contendrá los keys (es decir, las lenguas) que tengan un value igual a \"N\"\n",
    "## empleamos un ciclo for que recorra los keys de dict_IRR y guarde en la lista aquellos con valor igual a \"N\n",
    "no_marcacion_IRR = []\n",
    "\n",
    "for key in dict_IRR.keys():\n",
    "    if dict_IRR[key] == 'N':\n",
    "        no_marcacion_IRR = no_marcacion_IRR + [key]"
   ]
  },
  {
   "cell_type": "code",
   "execution_count": 104,
   "id": "840f485c-abbf-4a3e-854f-2fcc77aadf50",
   "metadata": {},
   "outputs": [
    {
     "data": {
      "text/plain": [
       "['Aguaruna', 'Arhuaco', 'Bora', 'Cavineña', 'Central Aymara']"
      ]
     },
     "execution_count": 104,
     "metadata": {},
     "output_type": "execute_result"
    }
   ],
   "source": [
    "##visualizamos la lista definida anteriormente\n",
    "no_marcacion_IRR[:5]"
   ]
  },
  {
   "cell_type": "code",
   "execution_count": 105,
   "id": "41fc1a04-a42f-4f58-86a8-263df314e8a8",
   "metadata": {},
   "outputs": [
    {
     "data": {
      "text/plain": [
       "34"
      ]
     },
     "execution_count": 105,
     "metadata": {},
     "output_type": "execute_result"
    }
   ],
   "source": [
    "#imprimimos el total de elementos de no_marcacion_IRR para saber el número de lenguas sin marcas morfosintácticas para modo irrealis.\n",
    "len(no_marcacion_IRR)"
   ]
  },
  {
   "cell_type": "code",
   "execution_count": 106,
   "id": "567fb5b7-1761-4b0b-956e-0800766c3e27",
   "metadata": {},
   "outputs": [],
   "source": [
    "#ahora definimos una nueva lista que contenga las lenguas con marcación morfológica de modo irrealis llamada marcacion_IRR.\n",
    "##con un ciclo for buscamos los keys en dict_IRR que no estén en la lista no_marcacion_IRR y los guarde en la nueva lista.\n",
    "###el resultado serán las lenguas que tienen marcas morfológicas para modo irrealis.\n",
    "marcacion_IRR = []\n",
    "\n",
    "for key in dict_IRR:\n",
    "    if key not in no_marcacion_IRR:\n",
    "        marcacion_IRR = marcacion_IRR + [key]"
   ]
  },
  {
   "cell_type": "code",
   "execution_count": 107,
   "id": "6f349018-648f-4889-85c3-52d0c982b9c4",
   "metadata": {},
   "outputs": [
    {
     "data": {
      "text/plain": [
       "['Apurinã', 'Awa-Cuaiquer', 'Baure', 'Bororo', 'Canela']"
      ]
     },
     "execution_count": 107,
     "metadata": {},
     "output_type": "execute_result"
    }
   ],
   "source": [
    "#visualizamos la lista definida anteriormente\n",
    "marcacion_IRR[:5]"
   ]
  },
  {
   "cell_type": "code",
   "execution_count": 108,
   "id": "447ffa09-6f30-4288-8af3-074c77628517",
   "metadata": {},
   "outputs": [
    {
     "data": {
      "text/plain": [
       "30"
      ]
     },
     "execution_count": 108,
     "metadata": {},
     "output_type": "execute_result"
    }
   ],
   "source": [
    "#imprimimos el total de elementos de marcacion_IRR para saber el número de lenguas con marcas morfosintáctica para modo irrealis.\n",
    "len(marcacion_IRR)"
   ]
  },
  {
   "cell_type": "code",
   "execution_count": 146,
   "id": "5ee0ea16-c01a-4e7a-be48-4bc7e2a15f83",
   "metadata": {},
   "outputs": [],
   "source": [
    "#definimos un diccionario para crear una tabla al que llamaremos tabla_modo\n",
    "#creamos keys que serán el encabezado de cada columna con los nombres: 'rasgo', 'modo realis' y 'modo irrealis'\n",
    "#asignamos values para cada key. \n",
    "#Para rasgo: marcado/no marcado. \n",
    "#Para cada rasgo lingüístico de tiempo imprimimos el largo de las listas marcacion_x y no_marcacion_x. \n",
    "tabla_modo = {'Rasgo': ['Marcado', 'No marcado'], 'Modo realis': [(len(marcacion_REAL)), (len(no_marcacion_REAL))], 'Modo irrealis': [(len(marcacion_IRR)), (len(no_marcacion_IRR))]}"
   ]
  },
  {
   "cell_type": "code",
   "execution_count": 147,
   "id": "440bf610-8bf6-4a96-b0bd-e49418b9ecaa",
   "metadata": {},
   "outputs": [
    {
     "name": "stdout",
     "output_type": "stream",
     "text": [
      "Rasgo         Modo realis    Modo irrealis\n",
      "----------  -------------  ---------------\n",
      "Marcado                 8               30\n",
      "No marcado             56               34\n"
     ]
    }
   ],
   "source": [
    "#imprimos la tabla creada\n",
    "print(tabulate(tabla_modo, headers='keys'))"
   ]
  },
  {
   "cell_type": "code",
   "execution_count": 149,
   "id": "104c1db6-b0fb-46bc-aa84-7ee0ac46a06a",
   "metadata": {},
   "outputs": [
    {
     "name": "stdout",
     "output_type": "stream",
     "text": [
      "╒════════════╤═══════════════╤═════════════════╕\n",
      "│ Rasgo      │   Modo realis │   Modo irrealis │\n",
      "╞════════════╪═══════════════╪═════════════════╡\n",
      "│ Marcado    │             8 │              30 │\n",
      "├────────────┼───────────────┼─────────────────┤\n",
      "│ No marcado │            56 │              34 │\n",
      "╘════════════╧═══════════════╧═════════════════╛\n"
     ]
    }
   ],
   "source": [
    "#asignamos la función 'fancy_grid' para que nuestra tabla tenga bordes internos y externos\n",
    "print(tabulate(tabla_modo, headers='keys', tablefmt='fancy_grid'))"
   ]
  },
  {
   "cell_type": "code",
   "execution_count": null,
   "id": "83c5b028-2ae4-49c5-9cab-cd1b60ec3a6e",
   "metadata": {},
   "outputs": [],
   "source": []
  }
 ],
 "metadata": {
  "kernelspec": {
   "display_name": "Python 3",
   "language": "python",
   "name": "python3"
  },
  "language_info": {
   "codemirror_mode": {
    "name": "ipython",
    "version": 3
   },
   "file_extension": ".py",
   "mimetype": "text/x-python",
   "name": "python",
   "nbconvert_exporter": "python",
   "pygments_lexer": "ipython3",
   "version": "3.8.8"
  }
 },
 "nbformat": 4,
 "nbformat_minor": 5
}
